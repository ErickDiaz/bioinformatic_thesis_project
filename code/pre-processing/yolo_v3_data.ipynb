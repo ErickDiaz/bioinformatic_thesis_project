{
 "cells": [
  {
   "cell_type": "code",
   "execution_count": 35,
   "metadata": {},
   "outputs": [],
   "source": [
    "import pandas as pd\n",
    "import numpy as np \n",
    "import sys\n",
    "from skimage.io import imread\n",
    "from tqdm import tqdm\n",
    "import datetime    "
   ]
  },
  {
   "cell_type": "markdown",
   "metadata": {},
   "source": [
    "### MASK CATEGORIES"
   ]
  },
  {
   "cell_type": "code",
   "execution_count": 36,
   "metadata": {},
   "outputs": [],
   "source": [
    "MASK_CATEGORIES = ['trophozoite','ring', 'schizont', 'gametocyte']\n",
    "#MASK_CATEGORIES = ['trophozoite']"
   ]
  },
  {
   "cell_type": "markdown",
   "metadata": {},
   "source": [
    "## Load TRAIN dataset"
   ]
  },
  {
   "cell_type": "code",
   "execution_count": 37,
   "metadata": {},
   "outputs": [],
   "source": [
    "RAW_IMAGES_PATH = '../../data/raw_data/malaria/images/'\n",
    "BOUNDING_BOX_PATH =  '../../data/raw_data/malaria/'\n",
    "BOUNDING_BOX_YOLO_PATH =  '../YOLO/darknet/data/malaria_yolo/'\n",
    "IMG_CHANNELS = 3"
   ]
  },
  {
   "cell_type": "code",
   "execution_count": 38,
   "metadata": {},
   "outputs": [
    {
     "name": "stdout",
     "output_type": "stream",
     "text": [
      "1208 images\n",
      "1208 images available\n"
     ]
    },
    {
     "data": {
      "text/html": [
       "<div>\n",
       "<style scoped>\n",
       "    .dataframe tbody tr th:only-of-type {\n",
       "        vertical-align: middle;\n",
       "    }\n",
       "\n",
       "    .dataframe tbody tr th {\n",
       "        vertical-align: top;\n",
       "    }\n",
       "\n",
       "    .dataframe thead th {\n",
       "        text-align: right;\n",
       "    }\n",
       "</style>\n",
       "<table border=\"1\" class=\"dataframe\">\n",
       "  <thead>\n",
       "    <tr style=\"text-align: right;\">\n",
       "      <th></th>\n",
       "      <th>image</th>\n",
       "      <th>objects</th>\n",
       "      <th>path</th>\n",
       "    </tr>\n",
       "  </thead>\n",
       "  <tbody>\n",
       "    <tr>\n",
       "      <th>20</th>\n",
       "      <td>{'checksum': '864f8a5ac3578cd53bc486f6f5b33540...</td>\n",
       "      <td>[{'bounding_box': {'minimum': {'r': 628, 'c': ...</td>\n",
       "      <td>images/edcb4d77-a4d3-465d-9b59-eb3087766b1c.png</td>\n",
       "    </tr>\n",
       "    <tr>\n",
       "      <th>681</th>\n",
       "      <td>{'checksum': 'a54e2809d66b2d6b97e4a6e9dd26e916...</td>\n",
       "      <td>[{'bounding_box': {'minimum': {'r': 1055, 'c':...</td>\n",
       "      <td>images/e0ef520d-7b65-485d-9888-e6859f189f70.png</td>\n",
       "    </tr>\n",
       "    <tr>\n",
       "      <th>676</th>\n",
       "      <td>{'checksum': '71e7a72c2fa68945a426829cbcd00ff9...</td>\n",
       "      <td>[{'bounding_box': {'minimum': {'r': 220, 'c': ...</td>\n",
       "      <td>images/36569710-a574-40be-ad42-897a6e74a128.png</td>\n",
       "    </tr>\n",
       "    <tr>\n",
       "      <th>331</th>\n",
       "      <td>{'checksum': '2b565a42cd70e892b8040296894c7b24...</td>\n",
       "      <td>[{'bounding_box': {'minimum': {'r': 641, 'c': ...</td>\n",
       "      <td>images/49efc89d-9cba-44f7-8257-7f911b73f68a.png</td>\n",
       "    </tr>\n",
       "    <tr>\n",
       "      <th>518</th>\n",
       "      <td>{'checksum': 'd51a8e5680a2ef056201bbb617ac6bf9...</td>\n",
       "      <td>[{'bounding_box': {'minimum': {'r': 379, 'c': ...</td>\n",
       "      <td>images/5721e41b-90ef-4851-8587-8dc71227ef90.png</td>\n",
       "    </tr>\n",
       "  </tbody>\n",
       "</table>\n",
       "</div>"
      ],
      "text/plain": [
       "                                                 image  \\\n",
       "20   {'checksum': '864f8a5ac3578cd53bc486f6f5b33540...   \n",
       "681  {'checksum': 'a54e2809d66b2d6b97e4a6e9dd26e916...   \n",
       "676  {'checksum': '71e7a72c2fa68945a426829cbcd00ff9...   \n",
       "331  {'checksum': '2b565a42cd70e892b8040296894c7b24...   \n",
       "518  {'checksum': 'd51a8e5680a2ef056201bbb617ac6bf9...   \n",
       "\n",
       "                                               objects  \\\n",
       "20   [{'bounding_box': {'minimum': {'r': 628, 'c': ...   \n",
       "681  [{'bounding_box': {'minimum': {'r': 1055, 'c':...   \n",
       "676  [{'bounding_box': {'minimum': {'r': 220, 'c': ...   \n",
       "331  [{'bounding_box': {'minimum': {'r': 641, 'c': ...   \n",
       "518  [{'bounding_box': {'minimum': {'r': 379, 'c': ...   \n",
       "\n",
       "                                                path  \n",
       "20   images/edcb4d77-a4d3-465d-9b59-eb3087766b1c.png  \n",
       "681  images/e0ef520d-7b65-485d-9888-e6859f189f70.png  \n",
       "676  images/36569710-a574-40be-ad42-897a6e74a128.png  \n",
       "331  images/49efc89d-9cba-44f7-8257-7f911b73f68a.png  \n",
       "518  images/5721e41b-90ef-4851-8587-8dc71227ef90.png  "
      ]
     },
     "execution_count": 38,
     "metadata": {},
     "output_type": "execute_result"
    }
   ],
   "source": [
    "train_bounding_box_df = pd.read_json(BOUNDING_BOX_PATH + 'training.json')\n",
    "train_bounding_box_df['path'] = train_bounding_box_df['image'].map(lambda x: x['pathname'][1:])\n",
    "\n",
    "print(train_bounding_box_df.shape[0], 'images')\n",
    "print(train_bounding_box_df.shape[0], 'images available')\n",
    "train_bounding_box_df.sample(5)"
   ]
  },
  {
   "cell_type": "code",
   "execution_count": 39,
   "metadata": {},
   "outputs": [],
   "source": [
    "objects = []\n",
    "for im_index, c_row in train_bounding_box_df.iterrows():\n",
    "    ## Get image heigth and weigth\n",
    "    img_path = BOUNDING_BOX_YOLO_PATH + c_row['path']\n",
    "    img = imread( img_path )[:,:,:IMG_CHANNELS]\n",
    "    im_height = img.shape[0]\n",
    "    im_width = img.shape[1]\n",
    "    \n",
    "\n",
    "    for c_item in c_row['objects']:\n",
    "        c_item.update({'im_index':im_index})\n",
    "        c_item.update({'im_height':im_height})\n",
    "        c_item.update({'im_width':im_width})\n",
    "        objects.append(dict(image=c_row['path'], **c_item))  \n",
    "    \n",
    "object_df = pd.DataFrame(objects)"
   ]
  },
  {
   "cell_type": "code",
   "execution_count": 40,
   "metadata": {},
   "outputs": [
    {
     "name": "stdout",
     "output_type": "stream",
     "text": [
      "red blood cell    77420\n",
      "trophozoite        1473\n",
      "difficult           441\n",
      "ring                353\n",
      "schizont            179\n",
      "gametocyte          144\n",
      "leukocyte           103\n",
      "Name: category, dtype: int64\n"
     ]
    },
    {
     "data": {
      "text/html": [
       "<div>\n",
       "<style scoped>\n",
       "    .dataframe tbody tr th:only-of-type {\n",
       "        vertical-align: middle;\n",
       "    }\n",
       "\n",
       "    .dataframe tbody tr th {\n",
       "        vertical-align: top;\n",
       "    }\n",
       "\n",
       "    .dataframe thead th {\n",
       "        text-align: right;\n",
       "    }\n",
       "</style>\n",
       "<table border=\"1\" class=\"dataframe\">\n",
       "  <thead>\n",
       "    <tr style=\"text-align: right;\">\n",
       "      <th></th>\n",
       "      <th>bounding_box</th>\n",
       "      <th>category</th>\n",
       "      <th>im_height</th>\n",
       "      <th>im_index</th>\n",
       "      <th>im_width</th>\n",
       "      <th>image</th>\n",
       "    </tr>\n",
       "  </thead>\n",
       "  <tbody>\n",
       "    <tr>\n",
       "      <th>55839</th>\n",
       "      <td>{'minimum': {'r': 1037, 'c': 1486}, 'maximum':...</td>\n",
       "      <td>red blood cell</td>\n",
       "      <td>1200</td>\n",
       "      <td>855</td>\n",
       "      <td>1600</td>\n",
       "      <td>images/68f34a9c-f73d-4238-8f55-4b05a8a2154c.png</td>\n",
       "    </tr>\n",
       "    <tr>\n",
       "      <th>19096</th>\n",
       "      <td>{'minimum': {'r': 418, 'c': 1245}, 'maximum': ...</td>\n",
       "      <td>red blood cell</td>\n",
       "      <td>1200</td>\n",
       "      <td>285</td>\n",
       "      <td>1600</td>\n",
       "      <td>images/6e39fb0a-aa41-4b16-b783-7589e97bf289.png</td>\n",
       "    </tr>\n",
       "    <tr>\n",
       "      <th>67921</th>\n",
       "      <td>{'minimum': {'r': 561, 'c': 1353}, 'maximum': ...</td>\n",
       "      <td>red blood cell</td>\n",
       "      <td>1200</td>\n",
       "      <td>1034</td>\n",
       "      <td>1600</td>\n",
       "      <td>images/41ebf9a1-24dc-454e-8bf8-508218f5ee57.png</td>\n",
       "    </tr>\n",
       "    <tr>\n",
       "      <th>31830</th>\n",
       "      <td>{'minimum': {'r': 979, 'c': 522}, 'maximum': {...</td>\n",
       "      <td>red blood cell</td>\n",
       "      <td>1200</td>\n",
       "      <td>496</td>\n",
       "      <td>1600</td>\n",
       "      <td>images/f62d4fb6-df7c-446c-94a8-d5aede0b1e0c.png</td>\n",
       "    </tr>\n",
       "    <tr>\n",
       "      <th>47453</th>\n",
       "      <td>{'minimum': {'r': 479, 'c': 1089}, 'maximum': ...</td>\n",
       "      <td>red blood cell</td>\n",
       "      <td>1200</td>\n",
       "      <td>736</td>\n",
       "      <td>1600</td>\n",
       "      <td>images/f7231477-f2c1-439a-9c8b-204de07686a4.png</td>\n",
       "    </tr>\n",
       "  </tbody>\n",
       "</table>\n",
       "</div>"
      ],
      "text/plain": [
       "                                            bounding_box        category  \\\n",
       "55839  {'minimum': {'r': 1037, 'c': 1486}, 'maximum':...  red blood cell   \n",
       "19096  {'minimum': {'r': 418, 'c': 1245}, 'maximum': ...  red blood cell   \n",
       "67921  {'minimum': {'r': 561, 'c': 1353}, 'maximum': ...  red blood cell   \n",
       "31830  {'minimum': {'r': 979, 'c': 522}, 'maximum': {...  red blood cell   \n",
       "47453  {'minimum': {'r': 479, 'c': 1089}, 'maximum': ...  red blood cell   \n",
       "\n",
       "       im_height  im_index  im_width  \\\n",
       "55839       1200       855      1600   \n",
       "19096       1200       285      1600   \n",
       "67921       1200      1034      1600   \n",
       "31830       1200       496      1600   \n",
       "47453       1200       736      1600   \n",
       "\n",
       "                                                 image  \n",
       "55839  images/68f34a9c-f73d-4238-8f55-4b05a8a2154c.png  \n",
       "19096  images/6e39fb0a-aa41-4b16-b783-7589e97bf289.png  \n",
       "67921  images/41ebf9a1-24dc-454e-8bf8-508218f5ee57.png  \n",
       "31830  images/f62d4fb6-df7c-446c-94a8-d5aede0b1e0c.png  \n",
       "47453  images/f7231477-f2c1-439a-9c8b-204de07686a4.png  "
      ]
     },
     "execution_count": 40,
     "metadata": {},
     "output_type": "execute_result"
    }
   ],
   "source": [
    "cat_dict = {v:k for k,v in enumerate(object_df['category'].value_counts().index, 1)}\n",
    "print(object_df['category'].value_counts())\n",
    "object_df.sample(5)"
   ]
  },
  {
   "cell_type": "code",
   "execution_count": 41,
   "metadata": {},
   "outputs": [
    {
     "data": {
      "text/plain": [
       "{'red blood cell': 1,\n",
       " 'trophozoite': 2,\n",
       " 'difficult': 3,\n",
       " 'ring': 4,\n",
       " 'schizont': 5,\n",
       " 'gametocyte': 6,\n",
       " 'leukocyte': 7}"
      ]
     },
     "execution_count": 41,
     "metadata": {},
     "output_type": "execute_result"
    }
   ],
   "source": [
    "cat_dict"
   ]
  },
  {
   "cell_type": "code",
   "execution_count": 42,
   "metadata": {},
   "outputs": [
    {
     "data": {
      "text/plain": [
       "{0: 'trophozoite', 1: 'ring', 2: 'schizont', 3: 'gametocyte'}"
      ]
     },
     "execution_count": 42,
     "metadata": {},
     "output_type": "execute_result"
    }
   ],
   "source": [
    "CATEGORIES_DICT = { i : cat for i,cat in enumerate(MASK_CATEGORIES) }\n",
    "CATEGORIES_DICT\n",
    "#inv_map = {v: k for k, v in my_map.items()}"
   ]
  },
  {
   "cell_type": "code",
   "execution_count": 43,
   "metadata": {},
   "outputs": [
    {
     "data": {
      "text/plain": [
       "{'trophozoite': 0, 'ring': 1, 'schizont': 2, 'gametocyte': 3}"
      ]
     },
     "execution_count": 43,
     "metadata": {},
     "output_type": "execute_result"
    }
   ],
   "source": [
    "key_cat_dict = {v: k for k, v in CATEGORIES_DICT.items()}\n",
    "key_cat_dict"
   ]
  },
  {
   "cell_type": "code",
   "execution_count": 44,
   "metadata": {},
   "outputs": [
    {
     "name": "stdout",
     "output_type": "stream",
     "text": [
      "Generating YOLO Data Anotation ... \n"
     ]
    },
    {
     "name": "stderr",
     "output_type": "stream",
     "text": [
      "100%|██████████| 80113/80113 [00:09<00:00, 8883.45it/s]\n"
     ]
    }
   ],
   "source": [
    "print('Generating YOLO Data Anotation ... ')\n",
    "sys.stdout.flush()\n",
    "object_df_count = object_df.shape[0]\n",
    "#object_df_count = 500\n",
    "\n",
    "training_set = []\n",
    "for n, row in tqdm(object_df.iterrows(), total=object_df_count):\n",
    "    #print(row)\n",
    "    #print(n)\n",
    "    min_val = row['bounding_box']['minimum']\n",
    "    max_val = row['bounding_box']['maximum']\n",
    "    im_index = row['im_index']\n",
    "    im_height = row['im_height']\n",
    "    im_width = row['im_width']\n",
    "    \n",
    "    current_category = row['category']\n",
    "    if(current_category in MASK_CATEGORIES) :\n",
    "        #print(\"\")\n",
    "        training_set.append(row[\"image\"])\n",
    "        file_name = row[\"image\"][7:-3] + \"txt\"\n",
    "        #print(file_name)\n",
    "        \n",
    "        absolute_height = max_val['r'] - min_val['r']\n",
    "        absolute_width = max_val['c'] -min_val['c']\n",
    "        \n",
    "        absolute_y =  (max_val['r'] + min_val['r']) / 2.\n",
    "        absolute_x =  (max_val['c'] + min_val['c']) / 2.\n",
    "        \n",
    "        y = absolute_y / im_height\n",
    "        x = absolute_x / im_width\n",
    "        \n",
    "        height = absolute_height / im_height\n",
    "        width  = absolute_width / im_width\n",
    "        \n",
    "        #print(\"absolute_y\",absolute_y)\n",
    "        #print(\"absolute_x\", absolute_x)\n",
    "        #print(\"absolute_height\",absolute_height)\n",
    "        #print(\"absolute_width\",absolute_width)\n",
    "        \n",
    "        out = \"{0} {1} {2} {3} {4}\".format(key_cat_dict[current_category], x,y,width, height)\n",
    "        f = open(BOUNDING_BOX_YOLO_PATH + file_name, \"a\")\n",
    "        f.write(out+ \"\\n\")\n",
    "        #print(out)\n",
    "    \n",
    "\n",
    "   "
   ]
  },
  {
   "cell_type": "code",
   "execution_count": null,
   "metadata": {},
   "outputs": [],
   "source": []
  },
  {
   "cell_type": "markdown",
   "metadata": {},
   "source": [
    "# TEST DATA SET"
   ]
  },
  {
   "cell_type": "code",
   "execution_count": 45,
   "metadata": {},
   "outputs": [
    {
     "name": "stdout",
     "output_type": "stream",
     "text": [
      "120 images\n",
      "120 images available\n"
     ]
    }
   ],
   "source": [
    "test_bounding_box_df = pd.read_json(BOUNDING_BOX_PATH + 'test.json')\n",
    "test_bounding_box_df['path'] = test_bounding_box_df['image'].map(lambda x:  x['pathname'][1:])\n",
    "\n",
    "print(test_bounding_box_df.shape[0], 'images')\n",
    "print(test_bounding_box_df.shape[0], 'images available')"
   ]
  },
  {
   "cell_type": "code",
   "execution_count": 46,
   "metadata": {},
   "outputs": [],
   "source": [
    "objects_test = []\n",
    "for im_index, c_row in test_bounding_box_df.iterrows():\n",
    "    ## Get image heigth and weigth\n",
    "    img_path = BOUNDING_BOX_YOLO_PATH + c_row['path']\n",
    "    img = imread( img_path )[:,:,:IMG_CHANNELS]\n",
    "    im_height = img.shape[0]\n",
    "    im_width = img.shape[1]\n",
    "    \n",
    "    for c_item in c_row['objects']:\n",
    "        c_item.update({'im_index':im_index})\n",
    "        c_item.update({'im_height':im_height})\n",
    "        c_item.update({'im_width':im_width})\n",
    "        objects_test.append(dict(image=c_row['path'], **c_item))\n",
    "        \n",
    "object_test_df = pd.DataFrame(objects_test)"
   ]
  },
  {
   "cell_type": "code",
   "execution_count": 47,
   "metadata": {},
   "outputs": [
    {
     "name": "stdout",
     "output_type": "stream",
     "text": [
      "red blood cell    5614\n",
      "ring               169\n",
      "trophozoite        111\n",
      "gametocyte          12\n",
      "schizont            11\n",
      "difficult            5\n",
      "Name: category, dtype: int64\n"
     ]
    },
    {
     "data": {
      "text/html": [
       "<div>\n",
       "<style scoped>\n",
       "    .dataframe tbody tr th:only-of-type {\n",
       "        vertical-align: middle;\n",
       "    }\n",
       "\n",
       "    .dataframe tbody tr th {\n",
       "        vertical-align: top;\n",
       "    }\n",
       "\n",
       "    .dataframe thead th {\n",
       "        text-align: right;\n",
       "    }\n",
       "</style>\n",
       "<table border=\"1\" class=\"dataframe\">\n",
       "  <thead>\n",
       "    <tr style=\"text-align: right;\">\n",
       "      <th></th>\n",
       "      <th>bounding_box</th>\n",
       "      <th>category</th>\n",
       "      <th>im_height</th>\n",
       "      <th>im_index</th>\n",
       "      <th>im_width</th>\n",
       "      <th>image</th>\n",
       "    </tr>\n",
       "  </thead>\n",
       "  <tbody>\n",
       "    <tr>\n",
       "      <th>5412</th>\n",
       "      <td>{'minimum': {'r': 1039, 'c': 1486}, 'maximum':...</td>\n",
       "      <td>red blood cell</td>\n",
       "      <td>1383</td>\n",
       "      <td>108</td>\n",
       "      <td>1944</td>\n",
       "      <td>images/4da8f6c5-5f85-4280-92d0-1ba008e8c404.jpg</td>\n",
       "    </tr>\n",
       "    <tr>\n",
       "      <th>907</th>\n",
       "      <td>{'minimum': {'r': 536, 'c': 953}, 'maximum': {...</td>\n",
       "      <td>red blood cell</td>\n",
       "      <td>1383</td>\n",
       "      <td>19</td>\n",
       "      <td>1944</td>\n",
       "      <td>images/8874ea02-d263-4830-99d1-e1b14230a56b.jpg</td>\n",
       "    </tr>\n",
       "    <tr>\n",
       "      <th>5525</th>\n",
       "      <td>{'minimum': {'r': 564, 'c': 1520}, 'maximum': ...</td>\n",
       "      <td>red blood cell</td>\n",
       "      <td>1383</td>\n",
       "      <td>110</td>\n",
       "      <td>1944</td>\n",
       "      <td>images/623982a0-1f73-4246-92cb-28f7c219efaf.jpg</td>\n",
       "    </tr>\n",
       "    <tr>\n",
       "      <th>405</th>\n",
       "      <td>{'minimum': {'r': 931, 'c': 872}, 'maximum': {...</td>\n",
       "      <td>red blood cell</td>\n",
       "      <td>1383</td>\n",
       "      <td>6</td>\n",
       "      <td>1944</td>\n",
       "      <td>images/d9ecacb0-14c7-4862-930b-18bb51d5f392.jpg</td>\n",
       "    </tr>\n",
       "    <tr>\n",
       "      <th>3932</th>\n",
       "      <td>{'minimum': {'r': 1015, 'c': 1218}, 'maximum':...</td>\n",
       "      <td>red blood cell</td>\n",
       "      <td>1383</td>\n",
       "      <td>75</td>\n",
       "      <td>1944</td>\n",
       "      <td>images/8448ac8c-fa7a-475a-9ca2-dc0174f78a39.jpg</td>\n",
       "    </tr>\n",
       "  </tbody>\n",
       "</table>\n",
       "</div>"
      ],
      "text/plain": [
       "                                           bounding_box        category  \\\n",
       "5412  {'minimum': {'r': 1039, 'c': 1486}, 'maximum':...  red blood cell   \n",
       "907   {'minimum': {'r': 536, 'c': 953}, 'maximum': {...  red blood cell   \n",
       "5525  {'minimum': {'r': 564, 'c': 1520}, 'maximum': ...  red blood cell   \n",
       "405   {'minimum': {'r': 931, 'c': 872}, 'maximum': {...  red blood cell   \n",
       "3932  {'minimum': {'r': 1015, 'c': 1218}, 'maximum':...  red blood cell   \n",
       "\n",
       "      im_height  im_index  im_width  \\\n",
       "5412       1383       108      1944   \n",
       "907        1383        19      1944   \n",
       "5525       1383       110      1944   \n",
       "405        1383         6      1944   \n",
       "3932       1383        75      1944   \n",
       "\n",
       "                                                image  \n",
       "5412  images/4da8f6c5-5f85-4280-92d0-1ba008e8c404.jpg  \n",
       "907   images/8874ea02-d263-4830-99d1-e1b14230a56b.jpg  \n",
       "5525  images/623982a0-1f73-4246-92cb-28f7c219efaf.jpg  \n",
       "405   images/d9ecacb0-14c7-4862-930b-18bb51d5f392.jpg  \n",
       "3932  images/8448ac8c-fa7a-475a-9ca2-dc0174f78a39.jpg  "
      ]
     },
     "execution_count": 47,
     "metadata": {},
     "output_type": "execute_result"
    }
   ],
   "source": [
    "cat_dict_test = {v:k for k,v in enumerate(object_test_df['category'].value_counts().index, 1)}\n",
    "print(object_test_df['category'].value_counts())\n",
    "object_test_df.sample(5)"
   ]
  },
  {
   "cell_type": "code",
   "execution_count": 48,
   "metadata": {},
   "outputs": [
    {
     "name": "stdout",
     "output_type": "stream",
     "text": [
      "Generating YOLO Data Anotation ... \n"
     ]
    },
    {
     "name": "stderr",
     "output_type": "stream",
     "text": [
      "100%|██████████| 5922/5922 [00:00<00:00, 8222.78it/s]\n"
     ]
    }
   ],
   "source": [
    "print('Generating YOLO Data Anotation ... ')\n",
    "sys.stdout.flush()\n",
    "object_df_count = object_test_df.shape[0]\n",
    "#object_df_count = 500\n",
    "\n",
    "test_set = []\n",
    "for n, row in tqdm(object_test_df.iterrows(), total=object_df_count):\n",
    "    #print(row)\n",
    "    #print(n)\n",
    "    min_val = row['bounding_box']['minimum']\n",
    "    max_val = row['bounding_box']['maximum']\n",
    "    im_index = row['im_index']\n",
    "    im_height = row['im_height']\n",
    "    im_width = row['im_width']\n",
    "    \n",
    "    current_category = row['category']\n",
    "    if(current_category in MASK_CATEGORIES) :\n",
    "        #print(\"\")\n",
    "        test_set.append(row[\"image\"])\n",
    "        file_name = row[\"image\"][7:-3] + \"txt\"\n",
    "        #print(file_name)\n",
    "        \n",
    "        absolute_height = max_val['r'] - min_val['r']\n",
    "        absolute_width = max_val['c'] -min_val['c']\n",
    "        \n",
    "        absolute_y =  min_val['r'] + (absolute_height / 2)\n",
    "        absolute_x =  min_val['c'] + (absolute_width / 2)\n",
    "        \n",
    "        y = absolute_y / im_height\n",
    "        x = absolute_x / im_width\n",
    "        \n",
    "        height = absolute_height / im_height\n",
    "        width  = absolute_width / im_width\n",
    "        \n",
    "        #print(\"absolute_y\",absolute_y)\n",
    "        #print(\"absolute_x\", absolute_x)\n",
    "        #print(\"absolute_height\",absolute_height)\n",
    "        #print(\"absolute_width\",absolute_width)\n",
    "        \n",
    "        out = \"{0} {1} {2} {3} {4}\".format(key_cat_dict[current_category], x,y,width, height)\n",
    "        f = open(BOUNDING_BOX_YOLO_PATH + file_name, \"a\")\n",
    "        f.write(out+ \"\\n\")\n",
    "        #print(out)\n",
    "    \n",
    "\n",
    "   "
   ]
  },
  {
   "cell_type": "code",
   "execution_count": 18,
   "metadata": {},
   "outputs": [
    {
     "data": {
      "text/plain": [
       "(115,)"
      ]
     },
     "execution_count": 18,
     "metadata": {},
     "output_type": "execute_result"
    }
   ],
   "source": [
    "test = np.unique(test_set)\n",
    "test.shape"
   ]
  },
  {
   "cell_type": "code",
   "execution_count": 19,
   "metadata": {},
   "outputs": [
    {
     "data": {
      "text/plain": [
       "(888,)"
      ]
     },
     "execution_count": 19,
     "metadata": {},
     "output_type": "execute_result"
    }
   ],
   "source": [
    "train = np.unique(training_set)\n",
    "train.shape"
   ]
  },
  {
   "cell_type": "markdown",
   "metadata": {},
   "source": [
    "### Creating training objects"
   ]
  },
  {
   "cell_type": "markdown",
   "metadata": {},
   "source": [
    "#### train.txt"
   ]
  },
  {
   "cell_type": "code",
   "execution_count": 21,
   "metadata": {},
   "outputs": [
    {
     "name": "stderr",
     "output_type": "stream",
     "text": [
      "100%|██████████| 888/888 [00:00<00:00, 33711.75it/s]\n"
     ]
    }
   ],
   "source": [
    "## TRAIN\n",
    "for t in tqdm(train, total=train.shape[0]):\n",
    "    train_item = \"data/malaria_yolo/\"+t \n",
    "    f = open(\"train.txt\", \"a\")\n",
    "    f.write(train_item + \"\\n\")\n",
    "f.close()    "
   ]
  },
  {
   "cell_type": "markdown",
   "metadata": {},
   "source": [
    "#### test.txt"
   ]
  },
  {
   "cell_type": "code",
   "execution_count": 22,
   "metadata": {},
   "outputs": [
    {
     "name": "stderr",
     "output_type": "stream",
     "text": [
      "100%|██████████| 115/115 [00:00<00:00, 11863.47it/s]\n"
     ]
    }
   ],
   "source": [
    "## TEST\n",
    "for t in tqdm(test, total=test.shape[0]):\n",
    "    train_item = \"data/malaria_yolo/\"+t \n",
    "    f = open(\"test.txt\", \"a\")\n",
    "    f.write(train_item + \"\\n\")\n",
    "f.close()    "
   ]
  },
  {
   "cell_type": "markdown",
   "metadata": {},
   "source": [
    "#### obj.names"
   ]
  },
  {
   "cell_type": "code",
   "execution_count": 27,
   "metadata": {},
   "outputs": [
    {
     "name": "stdout",
     "output_type": "stream",
     "text": [
      "trophozoite\n",
      "ring\n",
      "schizont\n",
      "gametocyte\n"
     ]
    }
   ],
   "source": [
    "for k, v in CATEGORIES_DICT.items():\n",
    "    print(v)\n",
    "    f = open(\"obj.names\", \"a\")\n",
    "    f.write(v + \"\\n\")\n",
    "f.close() "
   ]
  },
  {
   "cell_type": "markdown",
   "metadata": {},
   "source": [
    "## MODEL NAME"
   ]
  },
  {
   "cell_type": "code",
   "execution_count": 33,
   "metadata": {},
   "outputs": [],
   "source": [
    "str_masks_name = '_'.join(MASK_CATEGORIES)"
   ]
  },
  {
   "cell_type": "code",
   "execution_count": 34,
   "metadata": {},
   "outputs": [
    {
     "data": {
      "text/plain": [
       "'YOLOv3-malaria__201908081202_trophozoite_ring_schizont_gametocyte'"
      ]
     },
     "execution_count": 34,
     "metadata": {},
     "output_type": "execute_result"
    }
   ],
   "source": [
    "TODAY =  datetime.datetime.now().strftime(\"%Y%m%d%H%M\")\n",
    "nn_name = \"YOLOv3-malaria_\" +  \"_\" +TODAY + \"_\" + str_masks_name \n",
    "nn_name"
   ]
  },
  {
   "cell_type": "code",
   "execution_count": null,
   "metadata": {},
   "outputs": [],
   "source": []
  },
  {
   "cell_type": "code",
   "execution_count": null,
   "metadata": {},
   "outputs": [],
   "source": []
  },
  {
   "cell_type": "code",
   "execution_count": null,
   "metadata": {},
   "outputs": [],
   "source": []
  },
  {
   "cell_type": "code",
   "execution_count": null,
   "metadata": {},
   "outputs": [],
   "source": []
  },
  {
   "cell_type": "code",
   "execution_count": 58,
   "metadata": {},
   "outputs": [],
   "source": [
    "import cv2\n",
    "import os\n",
    "import matplotlib.pyplot as plt"
   ]
  },
  {
   "cell_type": "code",
   "execution_count": 62,
   "metadata": {},
   "outputs": [],
   "source": [
    "video_name = 'video.mp4'\n",
    "objects_test = []\n",
    "IMG_WIDTH = 1944\t\n",
    "IMG_HEIGHT = 1383\n",
    "fps = 0.5\n",
    "\n",
    "video = cv2.VideoWriter(video_name,cv2.VideoWriter_fourcc(*'DIVX'), fps, (IMG_WIDTH,IMG_HEIGHT))\n",
    "\n",
    "for im_index, c_row in test_bounding_box_df.iterrows():\n",
    "    ## Get image heigth and weigth\n",
    "    img_path = BOUNDING_BOX_YOLO_PATH + c_row['path']\n",
    "\n",
    "    frame = cv2.imread(img_path)\n",
    "    height, width, layers = frame.shape\n",
    "    #print(height, width)\n",
    "    \n",
    "    if ((height==IMG_HEIGHT) and (IMG_WIDTH==width)):\n",
    "        video.write(frame)\n",
    "\n",
    "cv2.destroyAllWindows()\n",
    "video.release()    "
   ]
  },
  {
   "cell_type": "code",
   "execution_count": null,
   "metadata": {},
   "outputs": [],
   "source": []
  },
  {
   "cell_type": "code",
   "execution_count": null,
   "metadata": {},
   "outputs": [],
   "source": [
    "fps = 0.5\n",
    "frame_array = []\n",
    "files = [f for f in os.listdir(pathIn) if isfile(join(pathIn, f))]\n",
    "#for sorting the file names properly\n",
    "files.sort(key = lambda x: x[5:-4])\n",
    "files.sort()\n",
    "frame_array = []\n",
    "files = [f for f in os.listdir(pathIn) if isfile(join(pathIn, f))]\n",
    "#for sorting the file names properly\n",
    "files.sort(key = lambda x: x[5:-4])\n",
    "for i in range(len(files)):\n",
    "    filename=pathIn + files[i]\n",
    "    #reading each files\n",
    "    img = cv2.imread(filename)\n",
    "    height, width, layers = img.shape\n",
    "    size = (width,height)\n",
    "    \n",
    "    #inserting the frames into an image array\n",
    "    frame_array.append(img)\n",
    "out = cv2.VideoWriter(pathOut,cv2.VideoWriter_fourcc(*'DIVX'), fps, size)\n",
    "for i in range(len(frame_array)):\n",
    "    # writing to a image array\n",
    "    out.write(frame_array[i])\n",
    "out.release()\n"
   ]
  }
 ],
 "metadata": {
  "kernelspec": {
   "display_name": "Python 3",
   "language": "python",
   "name": "python3"
  },
  "language_info": {
   "codemirror_mode": {
    "name": "ipython",
    "version": 3
   },
   "file_extension": ".py",
   "mimetype": "text/x-python",
   "name": "python",
   "nbconvert_exporter": "python",
   "pygments_lexer": "ipython3",
   "version": "3.6.8"
  }
 },
 "nbformat": 4,
 "nbformat_minor": 4
}
