{
 "cells": [
  {
   "cell_type": "code",
   "execution_count": 7,
   "metadata": {},
   "outputs": [],
   "source": [
    "import pandas as pd\n",
    "import numpy as np \n",
    "import sys\n",
    "from skimage.io import imread\n",
    "from tqdm import tqdm\n",
    "import datetime    "
   ]
  },
  {
   "cell_type": "markdown",
   "metadata": {},
   "source": [
    "### MASK CATEGORIES"
   ]
  },
  {
   "cell_type": "code",
   "execution_count": 8,
   "metadata": {},
   "outputs": [],
   "source": [
    "MASK_CATEGORIES = ['trophozoite','ring', 'schizont', 'gametocyte']\n",
    "#MASK_CATEGORIES = ['trophozoite']"
   ]
  },
  {
   "cell_type": "code",
   "execution_count": 9,
   "metadata": {},
   "outputs": [],
   "source": [
    "key_cat_dict = {'trophozoite': 0, 'ring': 0, 'schizont': 1, 'gametocyte': 2}"
   ]
  },
  {
   "cell_type": "markdown",
   "metadata": {},
   "source": [
    "## Load TRAIN dataset"
   ]
  },
  {
   "cell_type": "code",
   "execution_count": 10,
   "metadata": {},
   "outputs": [],
   "source": [
    "RAW_IMAGES_PATH = '../../data/raw_data/malaria/images/'\n",
    "BOUNDING_BOX_PATH =  '../../data/raw_data/malaria/'\n",
    "BOUNDING_BOX_YOLO_PATH =  '../YOLO/darknet/data/malaria_yolo/'\n",
    "IMG_CHANNELS = 3"
   ]
  },
  {
   "cell_type": "code",
   "execution_count": 11,
   "metadata": {},
   "outputs": [
    {
     "name": "stdout",
     "output_type": "stream",
     "text": [
      "1208 images\n",
      "1208 images available\n"
     ]
    },
    {
     "data": {
      "text/html": [
       "<div>\n",
       "<style scoped>\n",
       "    .dataframe tbody tr th:only-of-type {\n",
       "        vertical-align: middle;\n",
       "    }\n",
       "\n",
       "    .dataframe tbody tr th {\n",
       "        vertical-align: top;\n",
       "    }\n",
       "\n",
       "    .dataframe thead th {\n",
       "        text-align: right;\n",
       "    }\n",
       "</style>\n",
       "<table border=\"1\" class=\"dataframe\">\n",
       "  <thead>\n",
       "    <tr style=\"text-align: right;\">\n",
       "      <th></th>\n",
       "      <th>image</th>\n",
       "      <th>objects</th>\n",
       "      <th>path</th>\n",
       "    </tr>\n",
       "  </thead>\n",
       "  <tbody>\n",
       "    <tr>\n",
       "      <th>195</th>\n",
       "      <td>{'checksum': '65ac80ea8d0d43e027977208251c2d2b...</td>\n",
       "      <td>[{'bounding_box': {'minimum': {'r': 899, 'c': ...</td>\n",
       "      <td>images/0901f9d1-be4f-4c19-8e83-dd724dded9f5.png</td>\n",
       "    </tr>\n",
       "    <tr>\n",
       "      <th>531</th>\n",
       "      <td>{'checksum': 'e6ea7ea21a343f85bd503de6dd6d644d...</td>\n",
       "      <td>[{'bounding_box': {'minimum': {'r': 143, 'c': ...</td>\n",
       "      <td>images/1012abf2-cb05-4337-86c5-513ec4ca904d.png</td>\n",
       "    </tr>\n",
       "    <tr>\n",
       "      <th>83</th>\n",
       "      <td>{'checksum': '487d5566ea4614e671b37cbb4ad36381...</td>\n",
       "      <td>[{'bounding_box': {'minimum': {'r': 749, 'c': ...</td>\n",
       "      <td>images/729733ff-a349-4a96-b636-ccabe7d7e167.png</td>\n",
       "    </tr>\n",
       "    <tr>\n",
       "      <th>1097</th>\n",
       "      <td>{'checksum': 'a27cbfca2858acd1ce8d9bebc95689ef...</td>\n",
       "      <td>[{'bounding_box': {'minimum': {'r': 416, 'c': ...</td>\n",
       "      <td>images/a15e0fa8-2620-4f66-896e-175115c9dc3d.png</td>\n",
       "    </tr>\n",
       "    <tr>\n",
       "      <th>763</th>\n",
       "      <td>{'checksum': 'fcd2b53e1826188f7a4d84a1f76d79e2...</td>\n",
       "      <td>[{'bounding_box': {'minimum': {'r': 30, 'c': 1...</td>\n",
       "      <td>images/99b13257-b9d9-422f-8262-802da0bdc510.png</td>\n",
       "    </tr>\n",
       "  </tbody>\n",
       "</table>\n",
       "</div>"
      ],
      "text/plain": [
       "                                                  image  \\\n",
       "195   {'checksum': '65ac80ea8d0d43e027977208251c2d2b...   \n",
       "531   {'checksum': 'e6ea7ea21a343f85bd503de6dd6d644d...   \n",
       "83    {'checksum': '487d5566ea4614e671b37cbb4ad36381...   \n",
       "1097  {'checksum': 'a27cbfca2858acd1ce8d9bebc95689ef...   \n",
       "763   {'checksum': 'fcd2b53e1826188f7a4d84a1f76d79e2...   \n",
       "\n",
       "                                                objects  \\\n",
       "195   [{'bounding_box': {'minimum': {'r': 899, 'c': ...   \n",
       "531   [{'bounding_box': {'minimum': {'r': 143, 'c': ...   \n",
       "83    [{'bounding_box': {'minimum': {'r': 749, 'c': ...   \n",
       "1097  [{'bounding_box': {'minimum': {'r': 416, 'c': ...   \n",
       "763   [{'bounding_box': {'minimum': {'r': 30, 'c': 1...   \n",
       "\n",
       "                                                 path  \n",
       "195   images/0901f9d1-be4f-4c19-8e83-dd724dded9f5.png  \n",
       "531   images/1012abf2-cb05-4337-86c5-513ec4ca904d.png  \n",
       "83    images/729733ff-a349-4a96-b636-ccabe7d7e167.png  \n",
       "1097  images/a15e0fa8-2620-4f66-896e-175115c9dc3d.png  \n",
       "763   images/99b13257-b9d9-422f-8262-802da0bdc510.png  "
      ]
     },
     "execution_count": 11,
     "metadata": {},
     "output_type": "execute_result"
    }
   ],
   "source": [
    "train_bounding_box_df = pd.read_json(BOUNDING_BOX_PATH + 'training.json')\n",
    "train_bounding_box_df['path'] = train_bounding_box_df['image'].map(lambda x: x['pathname'][1:])\n",
    "\n",
    "print(train_bounding_box_df.shape[0], 'images')\n",
    "print(train_bounding_box_df.shape[0], 'images available')\n",
    "train_bounding_box_df.sample(5)"
   ]
  },
  {
   "cell_type": "code",
   "execution_count": 12,
   "metadata": {},
   "outputs": [],
   "source": [
    "objects = []\n",
    "for im_index, c_row in train_bounding_box_df.iterrows():\n",
    "    ## Get image heigth and weigth\n",
    "    img_path = BOUNDING_BOX_YOLO_PATH + c_row['path']\n",
    "    img = imread( img_path )[:,:,:IMG_CHANNELS]\n",
    "    im_height = img.shape[0]\n",
    "    im_width = img.shape[1]\n",
    "    \n",
    "\n",
    "    for c_item in c_row['objects']:\n",
    "        c_item.update({'im_index':im_index})\n",
    "        c_item.update({'im_height':im_height})\n",
    "        c_item.update({'im_width':im_width})\n",
    "        objects.append(dict(image=c_row['path'], **c_item))  \n",
    "    \n",
    "object_df = pd.DataFrame(objects)"
   ]
  },
  {
   "cell_type": "code",
   "execution_count": 13,
   "metadata": {},
   "outputs": [
    {
     "name": "stdout",
     "output_type": "stream",
     "text": [
      "red blood cell    77420\n",
      "trophozoite        1473\n",
      "difficult           441\n",
      "ring                353\n",
      "schizont            179\n",
      "gametocyte          144\n",
      "leukocyte           103\n",
      "Name: category, dtype: int64\n"
     ]
    },
    {
     "data": {
      "text/html": [
       "<div>\n",
       "<style scoped>\n",
       "    .dataframe tbody tr th:only-of-type {\n",
       "        vertical-align: middle;\n",
       "    }\n",
       "\n",
       "    .dataframe tbody tr th {\n",
       "        vertical-align: top;\n",
       "    }\n",
       "\n",
       "    .dataframe thead th {\n",
       "        text-align: right;\n",
       "    }\n",
       "</style>\n",
       "<table border=\"1\" class=\"dataframe\">\n",
       "  <thead>\n",
       "    <tr style=\"text-align: right;\">\n",
       "      <th></th>\n",
       "      <th>bounding_box</th>\n",
       "      <th>category</th>\n",
       "      <th>im_height</th>\n",
       "      <th>im_index</th>\n",
       "      <th>im_width</th>\n",
       "      <th>image</th>\n",
       "    </tr>\n",
       "  </thead>\n",
       "  <tbody>\n",
       "    <tr>\n",
       "      <th>23708</th>\n",
       "      <td>{'minimum': {'r': 930, 'c': 1387}, 'maximum': ...</td>\n",
       "      <td>red blood cell</td>\n",
       "      <td>1200</td>\n",
       "      <td>369</td>\n",
       "      <td>1600</td>\n",
       "      <td>images/79d7a014-21ff-40f1-9ac4-a69839390654.png</td>\n",
       "    </tr>\n",
       "    <tr>\n",
       "      <th>709</th>\n",
       "      <td>{'minimum': {'r': 923, 'c': 162}, 'maximum': {...</td>\n",
       "      <td>red blood cell</td>\n",
       "      <td>1200</td>\n",
       "      <td>14</td>\n",
       "      <td>1600</td>\n",
       "      <td>images/dcc1a193-7b74-44f8-ad8d-813751d8fa6b.png</td>\n",
       "    </tr>\n",
       "    <tr>\n",
       "      <th>5237</th>\n",
       "      <td>{'minimum': {'r': 436, 'c': 175}, 'maximum': {...</td>\n",
       "      <td>red blood cell</td>\n",
       "      <td>1200</td>\n",
       "      <td>83</td>\n",
       "      <td>1600</td>\n",
       "      <td>images/729733ff-a349-4a96-b636-ccabe7d7e167.png</td>\n",
       "    </tr>\n",
       "    <tr>\n",
       "      <th>48194</th>\n",
       "      <td>{'minimum': {'r': 94, 'c': 1115}, 'maximum': {...</td>\n",
       "      <td>red blood cell</td>\n",
       "      <td>1200</td>\n",
       "      <td>748</td>\n",
       "      <td>1600</td>\n",
       "      <td>images/913099c5-8085-4908-bf4b-1f098bbfcf66.png</td>\n",
       "    </tr>\n",
       "    <tr>\n",
       "      <th>55533</th>\n",
       "      <td>{'minimum': {'r': 11, 'c': 186}, 'maximum': {'...</td>\n",
       "      <td>red blood cell</td>\n",
       "      <td>1200</td>\n",
       "      <td>853</td>\n",
       "      <td>1600</td>\n",
       "      <td>images/a27b451d-44a6-4740-861a-9e7e99915563.png</td>\n",
       "    </tr>\n",
       "  </tbody>\n",
       "</table>\n",
       "</div>"
      ],
      "text/plain": [
       "                                            bounding_box        category  \\\n",
       "23708  {'minimum': {'r': 930, 'c': 1387}, 'maximum': ...  red blood cell   \n",
       "709    {'minimum': {'r': 923, 'c': 162}, 'maximum': {...  red blood cell   \n",
       "5237   {'minimum': {'r': 436, 'c': 175}, 'maximum': {...  red blood cell   \n",
       "48194  {'minimum': {'r': 94, 'c': 1115}, 'maximum': {...  red blood cell   \n",
       "55533  {'minimum': {'r': 11, 'c': 186}, 'maximum': {'...  red blood cell   \n",
       "\n",
       "       im_height  im_index  im_width  \\\n",
       "23708       1200       369      1600   \n",
       "709         1200        14      1600   \n",
       "5237        1200        83      1600   \n",
       "48194       1200       748      1600   \n",
       "55533       1200       853      1600   \n",
       "\n",
       "                                                 image  \n",
       "23708  images/79d7a014-21ff-40f1-9ac4-a69839390654.png  \n",
       "709    images/dcc1a193-7b74-44f8-ad8d-813751d8fa6b.png  \n",
       "5237   images/729733ff-a349-4a96-b636-ccabe7d7e167.png  \n",
       "48194  images/913099c5-8085-4908-bf4b-1f098bbfcf66.png  \n",
       "55533  images/a27b451d-44a6-4740-861a-9e7e99915563.png  "
      ]
     },
     "execution_count": 13,
     "metadata": {},
     "output_type": "execute_result"
    }
   ],
   "source": [
    "cat_dict = {v:k for k,v in enumerate(object_df['category'].value_counts().index, 1)}\n",
    "print(object_df['category'].value_counts())\n",
    "object_df.sample(5)"
   ]
  },
  {
   "cell_type": "code",
   "execution_count": 17,
   "metadata": {},
   "outputs": [
    {
     "data": {
      "text/plain": [
       "{'red blood cell': 1,\n",
       " 'trophozoite': 2,\n",
       " 'difficult': 3,\n",
       " 'ring': 4,\n",
       " 'schizont': 5,\n",
       " 'gametocyte': 6,\n",
       " 'leukocyte': 7}"
      ]
     },
     "execution_count": 17,
     "metadata": {},
     "output_type": "execute_result"
    }
   ],
   "source": [
    "cat_dict"
   ]
  },
  {
   "cell_type": "code",
   "execution_count": 15,
   "metadata": {},
   "outputs": [
    {
     "data": {
      "text/plain": [
       "{0: 'trophozoite', 1: 'ring', 2: 'schizont', 3: 'gametocyte'}"
      ]
     },
     "execution_count": 15,
     "metadata": {},
     "output_type": "execute_result"
    }
   ],
   "source": [
    "CATEGORIES_DICT = { i : cat for i,cat in enumerate(MASK_CATEGORIES) }\n",
    "CATEGORIES_DICT"
   ]
  },
  {
   "cell_type": "code",
   "execution_count": 27,
   "metadata": {},
   "outputs": [
    {
     "name": "stdout",
     "output_type": "stream",
     "text": [
      "Generating YOLO Training Data Anotation ... \n"
     ]
    },
    {
     "name": "stderr",
     "output_type": "stream",
     "text": [
      "100%|██████████| 80113/80113 [00:09<00:00, 8342.99it/s]\n"
     ]
    }
   ],
   "source": [
    "print('Generating YOLO Training Data Anotation ... ')\n",
    "sys.stdout.flush()\n",
    "object_df_count = object_df.shape[0]\n",
    "object_class_log = []\n",
    "\n",
    "\n",
    "training_set = []\n",
    "for n, row in tqdm(object_df.iterrows(), total=object_df_count):\n",
    "    min_val = row['bounding_box']['minimum']\n",
    "    max_val = row['bounding_box']['maximum']\n",
    "    im_index = row['im_index']\n",
    "    im_height = row['im_height']\n",
    "    im_width = row['im_width']\n",
    "    \n",
    "    current_category = row['category']\n",
    "    if(current_category in MASK_CATEGORIES) :\n",
    "        training_set.append(row[\"image\"])\n",
    "        file_name = row[\"image\"][7:-3] + \"txt\"\n",
    "        \n",
    "        absolute_height = max_val['r'] - min_val['r']\n",
    "        absolute_width = max_val['c'] -min_val['c']\n",
    "        \n",
    "        absolute_y =  (max_val['r'] + min_val['r']) / 2.\n",
    "        absolute_x =  (max_val['c'] + min_val['c']) / 2.\n",
    "        \n",
    "        y = absolute_y / im_height\n",
    "        x = absolute_x / im_width\n",
    "        \n",
    "        height = absolute_height / im_height\n",
    "        width  = absolute_width / im_width\n",
    "        \n",
    "        #print(\"absolute_y\",absolute_y)\n",
    "        #print(\"absolute_x\", absolute_x)\n",
    "        #print(\"absolute_height\",absolute_height)\n",
    "        #print(\"absolute_width\",absolute_width)\n",
    "        category = key_cat_dict[current_category]\n",
    "        object_class_log.append(category)\n",
    "        \n",
    "        out = \"{0} {1} {2} {3} {4}\".format(category, x,y,width, height)\n",
    "        f = open(BOUNDING_BOX_YOLO_PATH + \"images/\" + file_name, \"a\")\n",
    "        f.write(out+ \"\\n\")\n",
    "\n",
    "    \n",
    "\n",
    "   "
   ]
  },
  {
   "cell_type": "code",
   "execution_count": 29,
   "metadata": {},
   "outputs": [
    {
     "name": "stdout",
     "output_type": "stream",
     "text": [
      "1826\n",
      "179\n",
      "144\n"
     ]
    }
   ],
   "source": [
    "print(object_class_log.count(0))\n",
    "print(object_class_log.count(1))\n",
    "print(object_class_log.count(2))"
   ]
  },
  {
   "cell_type": "markdown",
   "metadata": {},
   "source": [
    "# TEST DATA SET"
   ]
  },
  {
   "cell_type": "code",
   "execution_count": 30,
   "metadata": {},
   "outputs": [
    {
     "name": "stdout",
     "output_type": "stream",
     "text": [
      "120 images\n",
      "120 images available\n"
     ]
    }
   ],
   "source": [
    "test_bounding_box_df = pd.read_json(BOUNDING_BOX_PATH + 'test.json')\n",
    "test_bounding_box_df['path'] = test_bounding_box_df['image'].map(lambda x:  x['pathname'][1:])\n",
    "\n",
    "print(test_bounding_box_df.shape[0], 'images')\n",
    "print(test_bounding_box_df.shape[0], 'images available')"
   ]
  },
  {
   "cell_type": "code",
   "execution_count": 31,
   "metadata": {},
   "outputs": [],
   "source": [
    "objects_test = []\n",
    "for im_index, c_row in test_bounding_box_df.iterrows():\n",
    "    ## Get image heigth and weigth\n",
    "    img_path = BOUNDING_BOX_YOLO_PATH + c_row['path']\n",
    "    img = imread( img_path )[:,:,:IMG_CHANNELS]\n",
    "    im_height = img.shape[0]\n",
    "    im_width = img.shape[1]\n",
    "    \n",
    "    for c_item in c_row['objects']:\n",
    "        c_item.update({'im_index':im_index})\n",
    "        c_item.update({'im_height':im_height})\n",
    "        c_item.update({'im_width':im_width})\n",
    "        objects_test.append(dict(image=c_row['path'], **c_item))\n",
    "        \n",
    "object_test_df = pd.DataFrame(objects_test)"
   ]
  },
  {
   "cell_type": "code",
   "execution_count": 32,
   "metadata": {},
   "outputs": [
    {
     "name": "stdout",
     "output_type": "stream",
     "text": [
      "red blood cell    5614\n",
      "ring               169\n",
      "trophozoite        111\n",
      "gametocyte          12\n",
      "schizont            11\n",
      "difficult            5\n",
      "Name: category, dtype: int64\n"
     ]
    },
    {
     "data": {
      "text/html": [
       "<div>\n",
       "<style scoped>\n",
       "    .dataframe tbody tr th:only-of-type {\n",
       "        vertical-align: middle;\n",
       "    }\n",
       "\n",
       "    .dataframe tbody tr th {\n",
       "        vertical-align: top;\n",
       "    }\n",
       "\n",
       "    .dataframe thead th {\n",
       "        text-align: right;\n",
       "    }\n",
       "</style>\n",
       "<table border=\"1\" class=\"dataframe\">\n",
       "  <thead>\n",
       "    <tr style=\"text-align: right;\">\n",
       "      <th></th>\n",
       "      <th>bounding_box</th>\n",
       "      <th>category</th>\n",
       "      <th>im_height</th>\n",
       "      <th>im_index</th>\n",
       "      <th>im_width</th>\n",
       "      <th>image</th>\n",
       "    </tr>\n",
       "  </thead>\n",
       "  <tbody>\n",
       "    <tr>\n",
       "      <th>4676</th>\n",
       "      <td>{'minimum': {'r': 612, 'c': 1019}, 'maximum': ...</td>\n",
       "      <td>red blood cell</td>\n",
       "      <td>1383</td>\n",
       "      <td>90</td>\n",
       "      <td>1944</td>\n",
       "      <td>images/6d9a2241-2cce-42b3-a11d-a3a6b432dd89.jpg</td>\n",
       "    </tr>\n",
       "    <tr>\n",
       "      <th>2404</th>\n",
       "      <td>{'minimum': {'r': 804, 'c': 472}, 'maximum': {...</td>\n",
       "      <td>red blood cell</td>\n",
       "      <td>1383</td>\n",
       "      <td>48</td>\n",
       "      <td>1944</td>\n",
       "      <td>images/604478c7-1259-441a-8ad0-7059e191c9e4.jpg</td>\n",
       "    </tr>\n",
       "    <tr>\n",
       "      <th>3911</th>\n",
       "      <td>{'minimum': {'r': 563, 'c': 707}, 'maximum': {...</td>\n",
       "      <td>red blood cell</td>\n",
       "      <td>1383</td>\n",
       "      <td>75</td>\n",
       "      <td>1944</td>\n",
       "      <td>images/8448ac8c-fa7a-475a-9ca2-dc0174f78a39.jpg</td>\n",
       "    </tr>\n",
       "    <tr>\n",
       "      <th>1472</th>\n",
       "      <td>{'minimum': {'r': 763, 'c': 997}, 'maximum': {...</td>\n",
       "      <td>red blood cell</td>\n",
       "      <td>1383</td>\n",
       "      <td>30</td>\n",
       "      <td>1944</td>\n",
       "      <td>images/78ae52cf-8dad-4070-a40e-9af02faec1f0.jpg</td>\n",
       "    </tr>\n",
       "    <tr>\n",
       "      <th>5900</th>\n",
       "      <td>{'minimum': {'r': 95, 'c': 528}, 'maximum': {'...</td>\n",
       "      <td>red blood cell</td>\n",
       "      <td>1383</td>\n",
       "      <td>119</td>\n",
       "      <td>1944</td>\n",
       "      <td>images/887cc81a-bae3-4360-a115-23ae05ac3a4f.jpg</td>\n",
       "    </tr>\n",
       "  </tbody>\n",
       "</table>\n",
       "</div>"
      ],
      "text/plain": [
       "                                           bounding_box        category  \\\n",
       "4676  {'minimum': {'r': 612, 'c': 1019}, 'maximum': ...  red blood cell   \n",
       "2404  {'minimum': {'r': 804, 'c': 472}, 'maximum': {...  red blood cell   \n",
       "3911  {'minimum': {'r': 563, 'c': 707}, 'maximum': {...  red blood cell   \n",
       "1472  {'minimum': {'r': 763, 'c': 997}, 'maximum': {...  red blood cell   \n",
       "5900  {'minimum': {'r': 95, 'c': 528}, 'maximum': {'...  red blood cell   \n",
       "\n",
       "      im_height  im_index  im_width  \\\n",
       "4676       1383        90      1944   \n",
       "2404       1383        48      1944   \n",
       "3911       1383        75      1944   \n",
       "1472       1383        30      1944   \n",
       "5900       1383       119      1944   \n",
       "\n",
       "                                                image  \n",
       "4676  images/6d9a2241-2cce-42b3-a11d-a3a6b432dd89.jpg  \n",
       "2404  images/604478c7-1259-441a-8ad0-7059e191c9e4.jpg  \n",
       "3911  images/8448ac8c-fa7a-475a-9ca2-dc0174f78a39.jpg  \n",
       "1472  images/78ae52cf-8dad-4070-a40e-9af02faec1f0.jpg  \n",
       "5900  images/887cc81a-bae3-4360-a115-23ae05ac3a4f.jpg  "
      ]
     },
     "execution_count": 32,
     "metadata": {},
     "output_type": "execute_result"
    }
   ],
   "source": [
    "cat_dict_test = {v:k for k,v in enumerate(object_test_df['category'].value_counts().index, 1)}\n",
    "print(object_test_df['category'].value_counts())\n",
    "object_test_df.sample(5)"
   ]
  },
  {
   "cell_type": "code",
   "execution_count": 33,
   "metadata": {},
   "outputs": [
    {
     "name": "stdout",
     "output_type": "stream",
     "text": [
      "Generating YOLO Data Anotation ... \n"
     ]
    },
    {
     "name": "stderr",
     "output_type": "stream",
     "text": [
      "100%|██████████| 5922/5922 [00:00<00:00, 8741.88it/s]\n"
     ]
    }
   ],
   "source": [
    "print('Generating YOLO Data Anotation ... ')\n",
    "sys.stdout.flush()\n",
    "object_df_count = object_test_df.shape[0]\n",
    "object_class_log = []\n",
    "\n",
    "test_set = []\n",
    "for n, row in tqdm(object_test_df.iterrows(), total=object_df_count):\n",
    "    #print(row)\n",
    "    #print(n)\n",
    "    min_val = row['bounding_box']['minimum']\n",
    "    max_val = row['bounding_box']['maximum']\n",
    "    im_index = row['im_index']\n",
    "    im_height = row['im_height']\n",
    "    im_width = row['im_width']\n",
    "    \n",
    "    current_category = row['category']\n",
    "    if(current_category in MASK_CATEGORIES) :\n",
    "        #print(\"\")\n",
    "        test_set.append(row[\"image\"])\n",
    "        file_name = row[\"image\"][7:-3] + \"txt\"\n",
    "        \n",
    "        absolute_height = max_val['r'] - min_val['r']\n",
    "        absolute_width = max_val['c'] -min_val['c']\n",
    "        \n",
    "        absolute_y =  min_val['r'] + (absolute_height / 2)\n",
    "        absolute_x =  min_val['c'] + (absolute_width / 2)\n",
    "        \n",
    "        y = absolute_y / im_height\n",
    "        x = absolute_x / im_width\n",
    "        \n",
    "        height = absolute_height / im_height\n",
    "        width  = absolute_width / im_width\n",
    "        \n",
    "        #print(\"absolute_y\",absolute_y)\n",
    "        #print(\"absolute_x\", absolute_x)\n",
    "        #print(\"absolute_height\",absolute_height)\n",
    "        #print(\"absolute_width\",absolute_width)\n",
    "        category = key_cat_dict[current_category]\n",
    "        object_class_log.append(category)\n",
    "        \n",
    "        out = \"{0} {1} {2} {3} {4}\".format(category, x,y,width, height)\n",
    "        f = open(BOUNDING_BOX_YOLO_PATH+ \"images/\" + file_name, \"a\")\n",
    "        f.write(out+ \"\\n\")\n",
    "        #print(out)\n",
    "    \n",
    "\n",
    "   "
   ]
  },
  {
   "cell_type": "code",
   "execution_count": 34,
   "metadata": {},
   "outputs": [
    {
     "name": "stdout",
     "output_type": "stream",
     "text": [
      "280\n",
      "11\n",
      "12\n"
     ]
    }
   ],
   "source": [
    "print(object_class_log.count(0))\n",
    "print(object_class_log.count(1))\n",
    "print(object_class_log.count(2))"
   ]
  },
  {
   "cell_type": "code",
   "execution_count": 35,
   "metadata": {},
   "outputs": [
    {
     "data": {
      "text/plain": [
       "(115,)"
      ]
     },
     "execution_count": 35,
     "metadata": {},
     "output_type": "execute_result"
    }
   ],
   "source": [
    "test = np.unique(test_set)\n",
    "test.shape"
   ]
  },
  {
   "cell_type": "code",
   "execution_count": 36,
   "metadata": {},
   "outputs": [
    {
     "data": {
      "text/plain": [
       "(888,)"
      ]
     },
     "execution_count": 36,
     "metadata": {},
     "output_type": "execute_result"
    }
   ],
   "source": [
    "train = np.unique(training_set)\n",
    "train.shape"
   ]
  },
  {
   "cell_type": "markdown",
   "metadata": {},
   "source": [
    "### Creating training objects"
   ]
  },
  {
   "cell_type": "markdown",
   "metadata": {},
   "source": [
    "#### train.txt"
   ]
  },
  {
   "cell_type": "code",
   "execution_count": 21,
   "metadata": {},
   "outputs": [
    {
     "name": "stderr",
     "output_type": "stream",
     "text": [
      "100%|██████████| 888/888 [00:00<00:00, 33711.75it/s]\n"
     ]
    }
   ],
   "source": [
    "## TRAIN\n",
    "for t in tqdm(train, total=train.shape[0]):\n",
    "    train_item = \"data/malaria_yolo/\"+t \n",
    "    f = open(\"train.txt\", \"a\")\n",
    "    f.write(train_item + \"\\n\")\n",
    "f.close()    "
   ]
  },
  {
   "cell_type": "markdown",
   "metadata": {},
   "source": [
    "#### test.txt"
   ]
  },
  {
   "cell_type": "code",
   "execution_count": 22,
   "metadata": {},
   "outputs": [
    {
     "name": "stderr",
     "output_type": "stream",
     "text": [
      "100%|██████████| 115/115 [00:00<00:00, 11863.47it/s]\n"
     ]
    }
   ],
   "source": [
    "## TEST\n",
    "for t in tqdm(test, total=test.shape[0]):\n",
    "    train_item = \"data/malaria_yolo/\"+t \n",
    "    f = open(\"test.txt\", \"a\")\n",
    "    f.write(train_item + \"\\n\")\n",
    "f.close()    "
   ]
  },
  {
   "cell_type": "markdown",
   "metadata": {},
   "source": [
    "#### obj.names"
   ]
  },
  {
   "cell_type": "code",
   "execution_count": 27,
   "metadata": {},
   "outputs": [
    {
     "name": "stdout",
     "output_type": "stream",
     "text": [
      "trophozoite\n",
      "ring\n",
      "schizont\n",
      "gametocyte\n"
     ]
    }
   ],
   "source": [
    "for k, v in CATEGORIES_DICT.items():\n",
    "    print(v)\n",
    "    f = open(\"obj.names\", \"a\")\n",
    "    f.write(v + \"\\n\")\n",
    "f.close() "
   ]
  },
  {
   "cell_type": "code",
   "execution_count": null,
   "metadata": {},
   "outputs": [],
   "source": []
  },
  {
   "cell_type": "code",
   "execution_count": null,
   "metadata": {},
   "outputs": [],
   "source": []
  },
  {
   "cell_type": "code",
   "execution_count": null,
   "metadata": {},
   "outputs": [],
   "source": []
  },
  {
   "cell_type": "code",
   "execution_count": null,
   "metadata": {},
   "outputs": [],
   "source": []
  },
  {
   "cell_type": "code",
   "execution_count": null,
   "metadata": {},
   "outputs": [],
   "source": []
  },
  {
   "cell_type": "markdown",
   "metadata": {},
   "source": [
    "# Training Commands"
   ]
  },
  {
   "cell_type": "markdown",
   "metadata": {},
   "source": [
    "### Split training-validation set"
   ]
  },
  {
   "cell_type": "code",
   "execution_count": 39,
   "metadata": {},
   "outputs": [],
   "source": [
    "all_training_dataset = open(\"all_train_data_set.txt\", \"r\")"
   ]
  },
  {
   "cell_type": "code",
   "execution_count": 40,
   "metadata": {},
   "outputs": [
    {
     "name": "stdout",
     "output_type": "stream",
     "text": [
      "703\n",
      "185\n"
     ]
    }
   ],
   "source": [
    "trainig_count = 0\n",
    "validation_count = 0\n",
    "\n",
    "for l in all_training_dataset:\n",
    "    if (np.random.rand(1) > 0.2):\n",
    "        ## Training\n",
    "        trainig_count += 1\n",
    "        f = open(\"train.txt\", \"a\")\n",
    "        f.write(l)\n",
    "    else:\n",
    "        ## Validation\n",
    "        validation_count += 1\n",
    "        f = open(\"valid.txt\", \"a\")\n",
    "        f.write(l)\n",
    "        \n",
    "all_training_dataset.close()\n",
    "print(trainig_count)\n",
    "print(validation_count)\n",
    "    "
   ]
  },
  {
   "cell_type": "markdown",
   "metadata": {},
   "source": [
    "### MODEL NAME"
   ]
  },
  {
   "cell_type": "markdown",
   "metadata": {},
   "source": [
    "##### How to improve object detection:\n",
    "- increase network resolution in your .cfg-file (height=608, width=608 or any value multiple of 32) - it will increase precision"
   ]
  },
  {
   "cell_type": "code",
   "execution_count": 42,
   "metadata": {},
   "outputs": [],
   "source": [
    "str_masks_name = '_'.join(MASK_CATEGORIES)"
   ]
  },
  {
   "cell_type": "code",
   "execution_count": 59,
   "metadata": {},
   "outputs": [
    {
     "data": {
      "text/plain": [
       "'YOLOv2-malaria_201908120022_trophozoite_ring_schizont_gametocyte_512_512'"
      ]
     },
     "execution_count": 59,
     "metadata": {},
     "output_type": "execute_result"
    }
   ],
   "source": [
    "IMG_WIDTH = 512\n",
    "IMG_HEIGHT = 512\n",
    "TODAY =  datetime.datetime.now().strftime(\"%Y%m%d%H%M\")\n",
    "\n",
    "nn_name = \"YOLOv2-malaria\" +  \"_\" +TODAY + \"_\" + str_masks_name + \"_\" + str(IMG_WIDTH) + \"_\" + str(IMG_HEIGHT)\n",
    "nn_name"
   ]
  },
  {
   "cell_type": "code",
   "execution_count": 41,
   "metadata": {},
   "outputs": [],
   "source": [
    "nn_name = \"YOLOv2-malaria_20190818_trofozoito_esquizonte_gametocito_512_512\"\n",
    "#nn_name = \"YOLOv2-malaria_20190818_trofozoito_esquizonte_gametocito_1024_1024\""
   ]
  },
  {
   "cell_type": "code",
   "execution_count": 42,
   "metadata": {},
   "outputs": [
    {
     "data": {
      "text/plain": [
       "'./darknet detector train data/malaria_yolo/obj.data data/malaria_yolo/YOLOv2-malaria_20190818_trofozoito_esquizonte_gametocito_512_512.cfg -map > YOLOv2-malaria_20190818_trofozoito_esquizonte_gametocito_512_512.log'"
      ]
     },
     "execution_count": 42,
     "metadata": {},
     "output_type": "execute_result"
    }
   ],
   "source": [
    "\"./darknet detector train data/malaria_yolo/obj.data data/malaria_yolo/{0}.cfg -map > {0}.log\".format(nn_name)"
   ]
  },
  {
   "cell_type": "code",
   "execution_count": 58,
   "metadata": {},
   "outputs": [
    {
     "data": {
      "text/plain": [
       "'tail -f YOLO-malaria_201908112336_trophozoite_ring_schizont_gametocyte_800_800.log'"
      ]
     },
     "execution_count": 58,
     "metadata": {},
     "output_type": "execute_result"
    }
   ],
   "source": [
    "\"tail -f {0}.log\".format(nn_name)"
   ]
  },
  {
   "cell_type": "markdown",
   "metadata": {},
   "source": [
    "### MODELS LOG\n",
    "\n",
    "- YOLO-malaria_201908112336_trophozoite_ring_schizont_gametocyte_800_800\n"
   ]
  },
  {
   "cell_type": "markdown",
   "metadata": {},
   "source": [
    "# TEST COMMANDS"
   ]
  },
  {
   "cell_type": "code",
   "execution_count": null,
   "metadata": {},
   "outputs": [],
   "source": []
  },
  {
   "cell_type": "markdown",
   "metadata": {},
   "source": [
    "### Generate video"
   ]
  },
  {
   "cell_type": "code",
   "execution_count": 20,
   "metadata": {},
   "outputs": [],
   "source": [
    "import cv2\n",
    "import os\n",
    "import matplotlib.pyplot as plt"
   ]
  },
  {
   "cell_type": "code",
   "execution_count": 21,
   "metadata": {},
   "outputs": [
    {
     "data": {
      "text/plain": [
       "'../YOLO/darknet/data/malaria_yolo/'"
      ]
     },
     "execution_count": 21,
     "metadata": {},
     "output_type": "execute_result"
    }
   ],
   "source": [
    "BOUNDING_BOX_YOLO_PATH"
   ]
  },
  {
   "cell_type": "code",
   "execution_count": 22,
   "metadata": {},
   "outputs": [],
   "source": [
    "video_name = 'video_2.mp4'\n",
    "objects_test = []\n",
    "IMG_WIDTH = 1944\t\n",
    "IMG_HEIGHT = 1383\n",
    "fps = 0.\n",
    "\n",
    "video = cv2.VideoWriter(video_name,cv2.VideoWriter_fourcc(*'DIVX'), fps, (IMG_WIDTH,IMG_HEIGHT))\n",
    "\n",
    "for im_index, c_row in test_bounding_box_df.iterrows():\n",
    "    ## Get image heigth and weigth\n",
    "    img_path = BOUNDING_BOX_YOLO_PATH + c_row['path']\n",
    "\n",
    "    frame = cv2.imread(img_path)\n",
    "    height, width, layers = frame.shape\n",
    "    #print(height, width)\n",
    "    \n",
    "    if ((height==IMG_HEIGHT) and (IMG_WIDTH==width)):\n",
    "        video.write(frame)\n",
    "\n",
    "cv2.destroyAllWindows()\n",
    "video.release()    "
   ]
  },
  {
   "cell_type": "code",
   "execution_count": null,
   "metadata": {},
   "outputs": [],
   "source": []
  }
 ],
 "metadata": {
  "kernelspec": {
   "display_name": "Python 3",
   "language": "python",
   "name": "python3"
  },
  "language_info": {
   "codemirror_mode": {
    "name": "ipython",
    "version": 3
   },
   "file_extension": ".py",
   "mimetype": "text/x-python",
   "name": "python",
   "nbconvert_exporter": "python",
   "pygments_lexer": "ipython3",
   "version": "3.6.8"
  }
 },
 "nbformat": 4,
 "nbformat_minor": 4
}
