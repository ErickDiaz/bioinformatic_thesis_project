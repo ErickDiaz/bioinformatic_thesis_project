{
 "cells": [
  {
   "cell_type": "code",
   "execution_count": 1,
   "metadata": {},
   "outputs": [
    {
     "name": "stderr",
     "output_type": "stream",
     "text": [
      "Using TensorFlow backend.\n"
     ]
    }
   ],
   "source": [
    "import models_predictors\n",
    "import unet_tf\n",
    "\n",
    "import cv2\n",
    "import matplotlib.pyplot as plt \n",
    "import numpy as np\n",
    "from skimage.io import imread, imshow\n",
    "import scipy.ndimage as ndi"
   ]
  },
  {
   "cell_type": "code",
   "execution_count": 2,
   "metadata": {},
   "outputs": [],
   "source": [
    "YOLO_MODELS_PATH = \"yolo_models/\"\n",
    "TRAIN_PATH = '../../data/raw_data/malaria/transformed_images/'\n",
    "\n",
    "MASK_CATEGORIES = ['trophozoite','ring', 'schizont', 'gametocyte']\n",
    "STR_MASK_CATEGORIES = '_'.join(MASK_CATEGORIES)"
   ]
  },
  {
   "cell_type": "code",
   "execution_count": 3,
   "metadata": {},
   "outputs": [],
   "source": [
    "train_ids = np.load(TRAIN_PATH+'malaria_train_transformed_256_256_names.npy',allow_pickle=True)\n",
    "test_ids = np.load(TRAIN_PATH+'malaria_test_transformed_256_256_names.npy',allow_pickle=True)"
   ]
  },
  {
   "cell_type": "code",
   "execution_count": 4,
   "metadata": {},
   "outputs": [],
   "source": [
    "X_test = np.load(TRAIN_PATH+'malaria_test_transformed_256_256.npy',allow_pickle=True)"
   ]
  },
  {
   "cell_type": "code",
   "execution_count": 5,
   "metadata": {},
   "outputs": [],
   "source": [
    "Y_test =  np.load(TRAIN_PATH+'malaria_test_transformed_256_256_masks_'+STR_MASK_CATEGORIES+'.npy',allow_pickle=True)"
   ]
  },
  {
   "cell_type": "code",
   "execution_count": 6,
   "metadata": {},
   "outputs": [],
   "source": [
    "model_file = 'YOLOv2-malaria_20190818_trofozoito_esquizonte_gametocito_1024_1024.cfg'\n",
    "weigths_file = 'YOLOv2-malaria_20190818_trofozoito_esquizonte_gametocito_1024_1024_best.weights'"
   ]
  },
  {
   "cell_type": "code",
   "execution_count": 7,
   "metadata": {},
   "outputs": [
    {
     "name": "stdout",
     "output_type": "stream",
     "text": [
      "####### RESULTS ########\n",
      "Total images tested: 120, Number of detections: 106\n"
     ]
    }
   ],
   "source": [
    "class_ids, confidences, boxes, images_index, masks = models_predictors.yolo_model_prediction(YOLO_MODELS_PATH, \\\n",
    "                                                                    \"obj_es.names\", model_file, weigths_file, \\\n",
    "                                                                    test_ids, 1024, 1024, conf_threshold = 0.4)"
   ]
  },
  {
   "cell_type": "code",
   "execution_count": 8,
   "metadata": {},
   "outputs": [],
   "source": [
    "model_file2 = 'YOLOv2-malaria_20190818_trofozoito_esquizonte_gametocito_512_512.cfg'\n",
    "weigths_file2 = 'YOLOv2-malaria_20190818_trofozoito_esquizonte_gametocito_512_512_best.weights'"
   ]
  },
  {
   "cell_type": "code",
   "execution_count": 9,
   "metadata": {},
   "outputs": [
    {
     "name": "stdout",
     "output_type": "stream",
     "text": [
      "####### RESULTS ########\n",
      "Total images tested: 120, Number of detections: 60\n"
     ]
    }
   ],
   "source": [
    "class_ids2, confidences2, boxes2, images_index2, masks2 = models_predictors.yolo_model_prediction(YOLO_MODELS_PATH, \\\n",
    "                                                                                \"obj_es.names\", model_file2, \\\n",
    "                                                                                weigths_file2, test_ids, \\\n",
    "                                                                                512, 512, conf_threshold = 0.4)"
   ]
  },
  {
   "cell_type": "code",
   "execution_count": null,
   "metadata": {},
   "outputs": [],
   "source": []
  },
  {
   "cell_type": "code",
   "execution_count": 10,
   "metadata": {},
   "outputs": [],
   "source": [
    "nn_name = \"u-net_models/unet-malaria_256_256_201908200413_trophozoite_ring_schizont_gametocyte\""
   ]
  },
  {
   "cell_type": "code",
   "execution_count": 11,
   "metadata": {},
   "outputs": [
    {
     "name": "stdout",
     "output_type": "stream",
     "text": [
      "/home/erick/Documents/bioinformatic_thesis_project/code/training/u-net_models/unet-malaria_256_256_201908200413_trophozoite_ring_schizont_gametocyte.meta\n",
      "WARNING:tensorflow:From /home/erick/anaconda3/envs/bioinformatic_thesis_gpu/lib/python3.6/site-packages/tensorflow/python/training/saver.py:1266: checkpoint_exists (from tensorflow.python.training.checkpoint_management) is deprecated and will be removed in a future version.\n",
      "Instructions for updating:\n",
      "Use standard file APIs to check for files with this prefix.\n",
      "INFO:tensorflow:Restoring parameters from u-net_models/unet-malaria_256_256_201908200413_trophozoite_ring_schizont_gametocyte\n",
      "u-net_models/unet-malaria_256_256_201908200413_trophozoite_ring_schizont_gametocyte\n",
      "u-net_models/unet-malaria_256_256_201908200413_trophozoite_ring_schizont_gametocyte\n",
      "Parameters of the loaded neural network\n",
      "\tnn_name = u-net_models/unet-malaria_256_256_201908200413_trophozoite_ring_schizont_gametocyte, epoch = 400.11, mb_size = 10\n",
      "\tinput_shape = (256, 256, 3), output_shape = (256, 256, 1)\n",
      "\tlearn_rate = 0.0000000000, learn_rate_0 = 0.0010000000, dropout_proba = 0.1\n",
      "\tlearn_rate_step = 3, learn_rate_pos = 133, learn_rate_alpha = 0.25\n"
     ]
    }
   ],
   "source": [
    "u_net = unet_tf.NeuralNetwork()\n",
    "sess = u_net.load_session_from_file(nn_name, allow_growth=True, same_location=True)"
   ]
  },
  {
   "cell_type": "code",
   "execution_count": 12,
   "metadata": {},
   "outputs": [],
   "source": [
    "test_index = np.arange(0,test_ids.shape[0])"
   ]
  },
  {
   "cell_type": "code",
   "execution_count": 13,
   "metadata": {},
   "outputs": [],
   "source": [
    "y_test_pred_proba = u_net.get_prediction(sess, X_test)\n",
    "y_test_pred  = unet_tf.trsf_proba_to_binary(y_test_pred_proba)"
   ]
  },
  {
   "cell_type": "code",
   "execution_count": 14,
   "metadata": {},
   "outputs": [
    {
     "name": "stderr",
     "output_type": "stream",
     "text": [
      "/home/erick/anaconda3/envs/bioinformatic_thesis_gpu/lib/python3.6/site-packages/numpy/core/fromnumeric.py:3118: RuntimeWarning: Mean of empty slice.\n",
      "  out=out, **kwargs)\n",
      "/home/erick/anaconda3/envs/bioinformatic_thesis_gpu/lib/python3.6/site-packages/numpy/core/_methods.py:85: RuntimeWarning: invalid value encountered in double_scalars\n",
      "  ret = ret.dtype.type(ret / rcount)\n",
      "/home/erick/Documents/bioinformatic_thesis_project/code/training/unet_tf.py:766: RuntimeWarning: invalid value encountered in long_scalars\n",
      "  prec = tp/(tp+fp)\n",
      "/home/erick/Documents/bioinformatic_thesis_project/code/training/unet_tf.py:782: RuntimeWarning: Mean of empty slice\n",
      "  score = np.nanmean(summary[:,1]) # Final score.\n"
     ]
    }
   ],
   "source": [
    "test_score, test_metrics= unet_tf.get_score(Y_test, y_test_pred)"
   ]
  },
  {
   "cell_type": "code",
   "execution_count": 19,
   "metadata": {},
   "outputs": [
    {
     "data": {
      "text/plain": [
       "array([[0.58767773, 0.06666667, 0.2       , 1.        , 3.        ],\n",
       "       [0.47272042, 0.        , 0.        , 3.        , 5.        ],\n",
       "       [0.50699245, 0.03333333, 0.1       , 3.        , 9.        ],\n",
       "       [0.22110553, 0.        , 0.        , 1.        , 1.        ],\n",
       "       [0.37511231, 0.        , 0.        , 2.        , 5.        ],\n",
       "       [       nan, 0.        , 0.        , 0.        , 2.        ],\n",
       "       [0.41262136, 0.        , 0.        , 1.        , 1.        ],\n",
       "       [0.46814044, 0.        , 0.        , 1.        , 3.        ],\n",
       "       [0.62424242, 0.3       , 0.1       , 3.        , 1.        ],\n",
       "       [0.43564356, 0.        , 0.        , 2.        , 2.        ],\n",
       "       [0.15477214, 0.        , 0.        , 2.        , 2.        ],\n",
       "       [0.43659286, 0.        , 0.        , 2.        , 6.        ],\n",
       "       [0.3453617 , 0.        , 0.        , 3.        , 3.        ],\n",
       "       [0.27123587, 0.        , 0.        , 2.        , 2.        ],\n",
       "       [0.4568457 , 0.3       , 0.3       , 2.        , 2.        ],\n",
       "       [0.34525134, 0.01111111, 0.01666667, 6.        , 9.        ],\n",
       "       [0.3015873 , 0.        , 0.        , 1.        , 1.        ],\n",
       "       [       nan, 0.        , 0.        , 0.        , 1.        ],\n",
       "       [       nan,        nan, 0.        , 2.        , 0.        ],\n",
       "       [0.48266928, 0.025     , 0.02      , 5.        , 4.        ],\n",
       "       [0.43539287, 0.05      , 0.05      , 2.        , 2.        ],\n",
       "       [0.38440678, 0.        , 0.        , 1.        , 3.        ],\n",
       "       [0.46622517, 0.        , 0.        , 1.        , 8.        ],\n",
       "       [       nan,        nan, 0.        , 4.        , 0.        ],\n",
       "       [0.3551269 , 0.        , 0.        , 2.        , 2.        ],\n",
       "       [0.50832073, 0.05      , 0.1       , 1.        , 2.        ],\n",
       "       [0.50752548, 0.1       , 0.13333333, 3.        , 4.        ],\n",
       "       [0.44632736, 0.1       , 0.1       , 3.        , 3.        ],\n",
       "       [0.35363458, 0.        , 0.        , 1.        , 1.        ],\n",
       "       [0.39774134, 0.        , 0.        , 2.        , 4.        ],\n",
       "       [0.52542574, 0.03333333, 0.05      , 4.        , 6.        ],\n",
       "       [0.51988633, 0.06666667, 0.06666667, 3.        , 3.        ],\n",
       "       [0.47068438, 0.        , 0.        , 2.        , 4.        ],\n",
       "       [0.47313364, 0.03333333, 0.04      , 5.        , 6.        ],\n",
       "       [0.40914431, 0.05      , 0.03333333, 3.        , 2.        ],\n",
       "       [0.27666399, 0.        , 0.        , 2.        , 2.        ],\n",
       "       [       nan, 0.        , 0.        , 1.        , 3.        ],\n",
       "       [0.50842568, 0.1       , 0.075     , 4.        , 3.        ],\n",
       "       [0.29578755, 0.        , 0.        , 1.        , 1.        ],\n",
       "       [0.52631579, 0.05      , 0.1       , 1.        , 2.        ],\n",
       "       [0.44368677, 0.05      , 0.1       , 2.        , 4.        ],\n",
       "       [0.55600032, 0.15      , 0.15      , 2.        , 2.        ],\n",
       "       [       nan,        nan, 0.        , 3.        , 0.        ],\n",
       "       [       nan, 0.        , 0.        , 3.        , 1.        ],\n",
       "       [0.68465608, 0.2       , 0.1       , 4.        , 2.        ],\n",
       "       [0.24530604, 0.        , 0.        , 5.        , 3.        ],\n",
       "       [0.47615324, 0.        , 0.        , 1.        , 1.        ],\n",
       "       [0.40949555, 0.        , 0.        , 1.        , 2.        ],\n",
       "       [0.45455366, 0.        , 0.        , 6.        , 2.        ],\n",
       "       [0.46070321, 0.        , 0.        , 2.        , 4.        ],\n",
       "       [0.26781614, 0.        , 0.        , 3.        , 5.        ],\n",
       "       [0.53614021, 0.075     , 0.1       , 3.        , 4.        ],\n",
       "       [0.49714286, 0.        , 0.        , 1.        , 3.        ],\n",
       "       [0.45791246, 0.        , 0.        , 1.        , 1.        ],\n",
       "       [0.50329877, 0.1       , 0.1       , 1.        , 1.        ],\n",
       "       [0.40472061, 0.        , 0.        , 3.        , 4.        ],\n",
       "       [0.2889744 , 0.05      , 0.1       , 2.        , 4.        ],\n",
       "       [0.61835245, 0.15      , 0.3       , 1.        , 2.        ],\n",
       "       [0.45674105, 0.        , 0.        , 5.        , 6.        ],\n",
       "       [0.5018584 , 0.1       , 0.1       , 3.        , 3.        ],\n",
       "       [0.37520212, 0.03333333, 0.03333333, 6.        , 6.        ],\n",
       "       [0.40296759, 0.        , 0.        , 6.        , 8.        ],\n",
       "       [0.50737706, 0.1       , 0.1       , 2.        , 2.        ],\n",
       "       [0.436669  , 0.        , 0.        , 1.        , 1.        ],\n",
       "       [0.39255644, 0.01666667, 0.05      , 2.        , 6.        ],\n",
       "       [0.30615815, 0.        , 0.        , 2.        , 4.        ],\n",
       "       [0.61205433, 0.3       , 0.3       , 1.        , 1.        ],\n",
       "       [0.40198664, 0.        , 0.        , 2.        , 4.        ],\n",
       "       [0.46582303, 0.125     , 0.125     , 4.        , 4.        ],\n",
       "       [0.59529895, 0.08333333, 0.25      , 2.        , 6.        ],\n",
       "       [0.52611297, 0.075     , 0.1       , 3.        , 4.        ],\n",
       "       [0.54072208, 0.05      , 0.05      , 2.        , 2.        ],\n",
       "       [0.51685393, 0.03333333, 0.1       , 1.        , 3.        ],\n",
       "       [0.48793566, 0.        , 0.        , 1.        , 2.        ],\n",
       "       [0.50236164, 0.04      , 0.06666667, 3.        , 5.        ],\n",
       "       [0.42485155, 0.        , 0.        , 5.        , 2.        ],\n",
       "       [0.33946252, 0.        , 0.        , 2.        , 1.        ],\n",
       "       [0.38693931, 0.025     , 0.03333333, 3.        , 4.        ],\n",
       "       [0.59663873, 0.16666667, 0.16666667, 3.        , 3.        ],\n",
       "       [0.67648725, 0.2       , 0.4       , 1.        , 2.        ],\n",
       "       [0.51037938, 0.1       , 0.1       , 1.        , 1.        ],\n",
       "       [       nan, 0.        , 0.        , 0.        , 5.        ],\n",
       "       [0.41902371, 0.        , 0.        , 3.        , 4.        ],\n",
       "       [0.50540958, 0.1       , 0.1       , 1.        , 1.        ],\n",
       "       [0.52203077, 0.05      , 0.1       , 2.        , 4.        ],\n",
       "       [       nan,        nan, 0.        , 6.        , 0.        ],\n",
       "       [0.5206243 , 0.1       , 0.05      , 2.        , 1.        ],\n",
       "       [0.49929364, 0.03333333, 0.15      , 2.        , 9.        ],\n",
       "       [0.52009519, 0.03333333, 0.05      , 2.        , 3.        ],\n",
       "       [0.44481329, 0.        , 0.        , 2.        , 2.        ],\n",
       "       [0.49417278, 0.03333333, 0.05      , 2.        , 3.        ],\n",
       "       [0.30224609, 0.        , 0.        , 3.        , 5.        ],\n",
       "       [0.29702404, 0.        , 0.        , 2.        , 4.        ],\n",
       "       [0.27699598, 0.03333333, 0.025     , 4.        , 3.        ],\n",
       "       [0.46067841, 0.        , 0.        , 3.        , 5.        ],\n",
       "       [       nan,        nan, 0.        , 3.        , 0.        ],\n",
       "       [0.64854733, 0.15      , 0.3       , 1.        , 2.        ],\n",
       "       [0.45405405, 0.        , 0.        , 1.        , 1.        ],\n",
       "       [0.60038797, 0.15      , 0.3       , 1.        , 2.        ],\n",
       "       [       nan,        nan, 0.        , 3.        , 0.        ],\n",
       "       [0.4602337 , 0.01428571, 0.05      , 2.        , 7.        ],\n",
       "       [0.5206117 , 0.05      , 0.1       , 1.        , 2.        ],\n",
       "       [0.33530906, 0.        , 0.        , 3.        , 1.        ],\n",
       "       [       nan, 0.        , 0.        , 0.        , 1.        ],\n",
       "       [0.42527979, 0.        , 0.        , 1.        , 1.        ],\n",
       "       [       nan,        nan, 0.        , 2.        , 0.        ],\n",
       "       [0.43979274, 0.        , 0.        , 5.        , 7.        ],\n",
       "       [0.25555536, 0.        , 0.        , 3.        , 7.        ],\n",
       "       [0.52534013, 0.13333333, 0.13333333, 3.        , 3.        ],\n",
       "       [0.30796255, 0.02      , 0.01428571, 7.        , 5.        ],\n",
       "       [0.45767556, 0.        , 0.        , 2.        , 3.        ],\n",
       "       [       nan, 0.        , 0.        , 0.        , 6.        ],\n",
       "       [0.54665759, 0.08      , 0.13333333, 3.        , 5.        ],\n",
       "       [0.48698953, 0.075     , 0.1       , 3.        , 4.        ],\n",
       "       [       nan,        nan, 0.        , 3.        , 0.        ],\n",
       "       [0.48442907, 0.        , 0.        , 1.        , 4.        ],\n",
       "       [0.47249396, 0.03333333, 0.05      , 2.        , 3.        ],\n",
       "       [0.5071157 , 0.03333333, 0.1       , 2.        , 6.        ],\n",
       "       [0.49860146, 0.02      , 0.05      , 2.        , 5.        ],\n",
       "       [0.45886076, 0.        , 0.        , 3.        , 1.        ]])"
      ]
     },
     "execution_count": 19,
     "metadata": {},
     "output_type": "execute_result"
    }
   ],
   "source": [
    "test_metrics"
   ]
  },
  {
   "cell_type": "code",
   "execution_count": 22,
   "metadata": {},
   "outputs": [
    {
     "data": {
      "text/plain": [
       "284.0"
      ]
     },
     "execution_count": 22,
     "metadata": {},
     "output_type": "execute_result"
    }
   ],
   "source": [
    "np.sum(test_metrics[:,3])"
   ]
  },
  {
   "cell_type": "code",
   "execution_count": 23,
   "metadata": {},
   "outputs": [
    {
     "data": {
      "text/plain": [
       "373.0"
      ]
     },
     "execution_count": 23,
     "metadata": {},
     "output_type": "execute_result"
    }
   ],
   "source": [
    "np.sum(test_metrics[:,4])"
   ]
  },
  {
   "cell_type": "code",
   "execution_count": 16,
   "metadata": {},
   "outputs": [
    {
     "ename": "AttributeError",
     "evalue": "'list' object has no attribute 'shape'",
     "output_type": "error",
     "traceback": [
      "\u001b[0;31m---------------------------------------------------------------------------\u001b[0m",
      "\u001b[0;31mAttributeError\u001b[0m                            Traceback (most recent call last)",
      "\u001b[0;32m<ipython-input-16-115c330cb970>\u001b[0m in \u001b[0;36m<module>\u001b[0;34m\u001b[0m\n\u001b[0;32m----> 1\u001b[0;31m \u001b[0my_test_pred\u001b[0m\u001b[0;34m.\u001b[0m\u001b[0mshape\u001b[0m\u001b[0;34m\u001b[0m\u001b[0;34m\u001b[0m\u001b[0m\n\u001b[0m",
      "\u001b[0;31mAttributeError\u001b[0m: 'list' object has no attribute 'shape'"
     ]
    }
   ],
   "source": [
    "y_test_pred.shape"
   ]
  },
  {
   "cell_type": "code",
   "execution_count": null,
   "metadata": {},
   "outputs": [],
   "source": [
    "fig, axes = plt.subplots(10,5,figsize=(20,20))\n",
    "\n",
    "\n",
    "for img_id, mask in enumerate(masks[:10]):\n",
    "    IMG_HEIGHT = 1024\n",
    "    IMG_WIDTH = 1024\n",
    "    mask_model1 = mask\n",
    "    mask_model2 = cv2.resize(masks2[img_id], dsize=(IMG_HEIGHT, IMG_WIDTH), interpolation=cv2.INTER_NEAREST)\n",
    "    mask_model3 = cv2.resize(np.squeeze(y_test_pred[img_id]), dsize=(IMG_HEIGHT, IMG_WIDTH), interpolation=cv2.INTER_NEAREST)\n",
    "\n",
    "    overlapping = np.matmul(mask,mask_model2)\n",
    "    overlapping = np.matmul(mask,mask_model3)\n",
    "    axes[img_id,0].imshow(mask, cmap='gray')\n",
    "    axes[img_id,1].imshow(mask_model2, cmap='gray')\n",
    "    axes[img_id,2].imshow(mask_model3, cmap='gray')\n",
    "    axes[img_id,3].imshow(overlapping, cmap='gray')\n",
    "    axes[img_id,4].imshow(np.squeeze(Y_test[img_id]), cmap='gray')"
   ]
  },
  {
   "cell_type": "code",
   "execution_count": null,
   "metadata": {},
   "outputs": [],
   "source": []
  }
 ],
 "metadata": {
  "kernelspec": {
   "display_name": "Python 3",
   "language": "python",
   "name": "python3"
  },
  "language_info": {
   "codemirror_mode": {
    "name": "ipython",
    "version": 3
   },
   "file_extension": ".py",
   "mimetype": "text/x-python",
   "name": "python",
   "nbconvert_exporter": "python",
   "pygments_lexer": "ipython3",
   "version": "3.6.8"
  }
 },
 "nbformat": 4,
 "nbformat_minor": 4
}
