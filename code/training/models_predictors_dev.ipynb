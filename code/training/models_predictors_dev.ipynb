{
 "cells": [
  {
   "cell_type": "code",
   "execution_count": 3,
   "metadata": {},
   "outputs": [],
   "source": [
    "import cv2\n",
    "import numpy as np\n",
    "import matplotlib.pyplot as plt \n",
    "from skimage.io import imread, imshow"
   ]
  },
  {
   "cell_type": "code",
   "execution_count": 4,
   "metadata": {},
   "outputs": [],
   "source": [
    "YOLO_MODELS_PATH = \"yolo_models/\"\n",
    "TRAIN_PATH = '../../data/raw_data/malaria/transformed_images/'\n",
    "\n",
    "MASK_CATEGORIES = ['trophozoite','ring', 'schizont', 'gametocyte']\n",
    "STR_MASK_CATEGORIES = '_'.join(MASK_CATEGORIES)\n"
   ]
  },
  {
   "cell_type": "markdown",
   "metadata": {},
   "source": [
    "## YOLO MODEL PREDICTIONS"
   ]
  },
  {
   "cell_type": "code",
   "execution_count": 61,
   "metadata": {},
   "outputs": [],
   "source": [
    "def yolo_model_prediction(model_path, classes_file, model_file, weigths_file, inputs, input_width, input_height, conf_threshold = 0.4, generate_mask = True):\n",
    "    '''\n",
    "    model_path     :path of classes_file, model_file, weigths_file \n",
    "    classes_file   :this file contains a list of the object classes\n",
    "    model_file     :cfg file\n",
    "    weigths_file   :weigths file\n",
    "    inputs\n",
    "    '''\n",
    "    \n",
    "    # Load model\n",
    "    net = cv2.dnn.readNetFromDarknet(model_path + model_file, model_path + weigths_file)\n",
    "    \n",
    "    # outputs initialization\n",
    "    count  = 0\n",
    "    tested = 0\n",
    "    #img_index = 0\n",
    "    class_ids = []\n",
    "    confidences = []\n",
    "    boxes = []\n",
    "    images_index = []\n",
    "    masks = []\n",
    "    \n",
    "    for img_index,i in enumerate(inputs):\n",
    "        tested += 1\n",
    "        image = cv2.imread(i)\n",
    "        Width = image.shape[1]\n",
    "        Height = image.shape[0]\n",
    "        scale = 1/255\n",
    "\n",
    "        blob = cv2.dnn.blobFromImage(image, scale, (input_width,input_height),  [0,0,0],swapRB=True, crop=False)\n",
    "\n",
    "        net.setInput(blob)\n",
    "\n",
    "        layer_names = net.getLayerNames()\n",
    "        output_layers = [layer_names[i[0] - 1] for i in net.getUnconnectedOutLayers()]\n",
    "\n",
    "        outs = net.forward(output_layers)\n",
    "        \n",
    "        ## MASK ##\n",
    "        if (generate_mask):\n",
    "            masks.append(np.zeros((input_width, input_height), dtype=np.uint8))\n",
    "        ##########\n",
    "\n",
    "\n",
    "        for out in outs:\n",
    "            for detection in out:\n",
    "                scores = detection[5:]\n",
    "                class_id = np.argmax(scores)\n",
    "                confidence = scores[class_id]\n",
    "\n",
    "                if confidence >= conf_threshold:\n",
    "                    center_x = int(detection[0] * Width)\n",
    "                    center_y = int(detection[1] * Height)\n",
    "                    w = int(detection[2] * Width)\n",
    "                    h = int(detection[3] * Height)\n",
    "                    x = center_x - w / 2\n",
    "                    y = center_y - h / 2\n",
    "                    class_ids.append(class_id)\n",
    "                    confidences.append(float(confidence))\n",
    "                    boxes.append([x, y, w, h])\n",
    "                    #print(\"confidence: {:.2f}, class: {:.2f} \\n \".format(confidence, class_id))\n",
    "                    images_index.append(img_index)\n",
    "                    \n",
    "                    ## MASK ##\n",
    "                    if (generate_mask):\n",
    "                        current_mask = masks[img_index]\n",
    "                        current_mask[slice(round(x), round(x+w)), slice(round(y), round(y+h))] = 1\n",
    "                        masks[img_index] = current_mask     \n",
    "                    ##########\n",
    "                    count +=1\n",
    "                    \n",
    "\n",
    "        #img_index+=1\n",
    "\n",
    "    print(\"####### RESULTS ########\")\n",
    "    print(\"Total images tested: {}, Number of detections: {}\".format(tested, count))\n",
    "\n",
    "    \n",
    "    return class_ids, confidences, boxes, images_index, masks"
   ]
  },
  {
   "cell_type": "code",
   "execution_count": 7,
   "metadata": {},
   "outputs": [],
   "source": [
    "train_ids = np.load(TRAIN_PATH+'malaria_train_transformed_256_256_names.npy',allow_pickle=True)\n",
    "test_ids = np.load(TRAIN_PATH+'malaria_test_transformed_256_256_names.npy',allow_pickle=True)"
   ]
  },
  {
   "cell_type": "code",
   "execution_count": 70,
   "metadata": {},
   "outputs": [],
   "source": [
    "model_file = 'YOLOv2-malaria_20190818_trofozoito_esquizonte_gametocito_1024_1024.cfg'\n",
    "weigths_file = 'YOLOv2-malaria_20190818_trofozoito_esquizonte_gametocito_1024_1024_best.weights'"
   ]
  },
  {
   "cell_type": "code",
   "execution_count": 71,
   "metadata": {},
   "outputs": [
    {
     "name": "stdout",
     "output_type": "stream",
     "text": [
      "####### RESULTS ########\n",
      "Total images tested: 120, Number of detections: 106\n"
     ]
    }
   ],
   "source": [
    "class_ids, confidences, boxes, images_index, masks = yolo_model_prediction(YOLO_MODELS_PATH, \\\n",
    "                                                                    \"obj_es.names\", model_file, weigths_file, \\\n",
    "                                                                    test_ids, 1024, 1024, conf_threshold = 0.4)"
   ]
  },
  {
   "cell_type": "code",
   "execution_count": 72,
   "metadata": {},
   "outputs": [],
   "source": [
    "model_file2 = 'YOLOv2-malaria_20190818_trofozoito_esquizonte_gametocito_512_512.cfg'\n",
    "weigths_file2 = 'YOLOv2-malaria_20190818_trofozoito_esquizonte_gametocito_512_512_best.weights'"
   ]
  },
  {
   "cell_type": "code",
   "execution_count": 73,
   "metadata": {},
   "outputs": [
    {
     "name": "stdout",
     "output_type": "stream",
     "text": [
      "####### RESULTS ########\n",
      "Total images tested: 120, Number of detections: 60\n"
     ]
    }
   ],
   "source": [
    "class_ids2, confidences2, boxes2, images_index2, masks2 = yolo_model_prediction(YOLO_MODELS_PATH, \\\n",
    "                                                                                \"obj_es.names\", model_file2, \\\n",
    "                                                                                weigths_file2, test_ids, \\\n",
    "                                                                                512, 512, conf_threshold = 0.4)"
   ]
  },
  {
   "cell_type": "code",
   "execution_count": 38,
   "metadata": {},
   "outputs": [
    {
     "data": {
      "text/plain": [
       "Counter({0: 106})"
      ]
     },
     "execution_count": 38,
     "metadata": {},
     "output_type": "execute_result"
    }
   ],
   "source": [
    "### count classes ##\n",
    "from collections import Counter\n",
    "\n",
    "Counter(class_ids)"
   ]
  },
  {
   "cell_type": "code",
   "execution_count": null,
   "metadata": {},
   "outputs": [],
   "source": [
    "Counter"
   ]
  },
  {
   "cell_type": "markdown",
   "metadata": {},
   "source": [
    "### Generate masks for YOLO output"
   ]
  },
  {
   "cell_type": "code",
   "execution_count": 74,
   "metadata": {},
   "outputs": [
    {
     "data": {
      "image/png": "[encoded data removed]",
      "text/plain": [
       "<Figure size 1080x1080 with 30 Axes>"
      ]
     },
     "metadata": {
      "needs_background": "light"
     },
     "output_type": "display_data"
    }
   ],
   "source": [
    "fig, axes = plt.subplots(15,2,figsize=(15,15))\n",
    "\n",
    "for img_id, mask in enumerate(masks[:15]):\n",
    "    axes[img_id,0].imshow(mask, cmap='gray')\n",
    "    axes[img_id,1].imshow(masks2[img_id], cmap='gray')"
   ]
  },
  {
   "cell_type": "code",
   "execution_count": null,
   "metadata": {},
   "outputs": [],
   "source": []
  },
  {
   "cell_type": "code",
   "execution_count": null,
   "metadata": {},
   "outputs": [],
   "source": []
  },
  {
   "cell_type": "code",
   "execution_count": null,
   "metadata": {},
   "outputs": [],
   "source": []
  },
  {
   "cell_type": "code",
   "execution_count": null,
   "metadata": {},
   "outputs": [],
   "source": []
  },
  {
   "cell_type": "code",
   "execution_count": null,
   "metadata": {},
   "outputs": [],
   "source": []
  },
  {
   "cell_type": "code",
   "execution_count": null,
   "metadata": {},
   "outputs": [],
   "source": []
  },
  {
   "cell_type": "code",
   "execution_count": null,
   "metadata": {},
   "outputs": [],
   "source": []
  },
  {
   "cell_type": "code",
   "execution_count": null,
   "metadata": {},
   "outputs": [],
   "source": []
  },
  {
   "cell_type": "code",
   "execution_count": 17,
   "metadata": {},
   "outputs": [],
   "source": [
    "# generate different colors for different classes \n",
    "with open(YOLO_MODELS_PATH+\"obj_es.names\", 'r') as f:\n",
    "    classes = [line.strip() for line in f.readlines()]\n",
    "\n",
    "COLORS = np.random.uniform(0, 255, size=(len(classes), 4))"
   ]
  },
  {
   "cell_type": "code",
   "execution_count": 18,
   "metadata": {},
   "outputs": [],
   "source": [
    "#model_file = 'YOLOv2-malaria_20190818_trofozoito_esquizonte_gametocito_512_512.cfg'\n",
    "#weigths_file = 'YOLOv2-malaria_20190818_trofozoito_esquizonte_gametocito_512_512_best.weights'\n",
    "\n",
    "model_file = 'YOLOv2-malaria_20190818_trofozoito_esquizonte_gametocito_1024_1024.cfg'\n",
    "weigths_file = 'YOLOv2-malaria_20190818_trofozoito_esquizonte_gametocito_1024_1024_best.weights'"
   ]
  },
  {
   "cell_type": "code",
   "execution_count": 19,
   "metadata": {},
   "outputs": [],
   "source": [
    "net = cv2.dnn.readNetFromDarknet(YOLO_MODELS_PATH + model_file, YOLO_MODELS_PATH + weigths_file)"
   ]
  },
  {
   "cell_type": "code",
   "execution_count": 20,
   "metadata": {},
   "outputs": [],
   "source": [
    "#net = cv2.dnn.readNet(YOLO_MODELS_PATH + \"YOLO-malaria_201908112336_trophozoite_ring_schizont_gametocyte_800_800_best.weights\", \\\n",
    "#                      YOLO_MODELS_PATH+\"YOLO-malaria_201908112336_trophozoite_ring_schizont_gametocyte_800_800.cfg\")"
   ]
  },
  {
   "cell_type": "code",
   "execution_count": 21,
   "metadata": {},
   "outputs": [],
   "source": [
    "net.setPreferableBackend(cv2.dnn.DNN_BACKEND_OPENCV)\n",
    "net.setPreferableTarget(cv2.dnn.DNN_TARGET_CPU)"
   ]
  },
  {
   "cell_type": "code",
   "execution_count": 22,
   "metadata": {},
   "outputs": [
    {
     "data": {
      "text/plain": [
       "<dnn_Net 0x7efd64f13c30>"
      ]
     },
     "execution_count": 22,
     "metadata": {},
     "output_type": "execute_result"
    }
   ],
   "source": [
    "net"
   ]
  },
  {
   "cell_type": "code",
   "execution_count": 23,
   "metadata": {},
   "outputs": [],
   "source": [
    "# function to draw bounding box on the detected object with class name\n",
    "def draw_bounding_box(img, class_id, confidence, x, y, x_plus_w, y_plus_h):\n",
    "    label = str(classes[class_id])\n",
    "\n",
    "    color = COLORS[class_id]\n",
    "\n",
    "    cv2.rectangle(img, (x,y), (x_plus_w,y_plus_h), color, 2)\n",
    "\n",
    "    cv2.putText(img, label, (x-10,y-10), cv2.FONT_HERSHEY_SIMPLEX, 0.5, color, 2)"
   ]
  },
  {
   "cell_type": "markdown",
   "metadata": {},
   "source": [
    "### Read Image"
   ]
  },
  {
   "cell_type": "code",
   "execution_count": 24,
   "metadata": {},
   "outputs": [],
   "source": [
    "test_ids = np.load(TRAIN_PATH+'malaria_test_transformed_256_256_names.npy',allow_pickle=True)\n",
    "Y_test =  np.load(TRAIN_PATH+'malaria_test_transformed_256_256_masks_'+STR_MASK_CATEGORIES+'.npy',allow_pickle=True)"
   ]
  },
  {
   "cell_type": "code",
   "execution_count": 25,
   "metadata": {},
   "outputs": [],
   "source": [
    "train_ids = np.load(TRAIN_PATH+'malaria_train_transformed_256_256_names.npy',allow_pickle=True)"
   ]
  },
  {
   "cell_type": "code",
   "execution_count": 13,
   "metadata": {},
   "outputs": [
    {
     "name": "stdout",
     "output_type": "stream",
     "text": [
      "####### RESULTS ########\n",
      "Total images tested: 1208, Number of detections: 2141\n"
     ]
    }
   ],
   "source": [
    "#image = cv2.imread(test_ids[n])\n",
    "count =0\n",
    "tested = 0\n",
    "im_id=0\n",
    "\n",
    "# outputs initialization\n",
    "count  = 0\n",
    "tested = 0\n",
    "img_id = 0\n",
    "class_ids = []\n",
    "confidences = []\n",
    "boxes = []\n",
    "images_ids = []\n",
    "    \n",
    "for im in train_ids:\n",
    "    tested += 1\n",
    "    image = cv2.imread(im)\n",
    "    Width = image.shape[1]\n",
    "    Height = image.shape[0]\n",
    "    scale = 1/255\n",
    "\n",
    "\n",
    "    blob = cv2.dnn.blobFromImage(image, scale, (800,800),  [0,0,0],swapRB=True, crop=False)\n",
    "    \n",
    "    net.setInput(blob)\n",
    "    \n",
    "    layer_names = net.getLayerNames()\n",
    "    output_layers = [layer_names[i[0] - 1] for i in net.getUnconnectedOutLayers()]\n",
    "    \n",
    "    outs = net.forward(output_layers)\n",
    "    \n",
    "\n",
    "    conf_threshold = 0.5\n",
    "    nms_threshold = 0.4\n",
    "\n",
    "    for out in outs:\n",
    "        for detection in out:\n",
    "            scores = detection[5:]\n",
    "            class_id = np.argmax(scores)\n",
    "            confidence = scores[class_id]\n",
    "            \n",
    "            if confidence > 0.:\n",
    "                center_x = int(detection[0] * Width)\n",
    "                center_y = int(detection[1] * Height)\n",
    "                w = int(detection[2] * Width)\n",
    "                h = int(detection[3] * Height)\n",
    "                x = center_x - w / 2\n",
    "                y = center_y - h / 2\n",
    "                class_ids.append(class_id)\n",
    "                confidences.append(float(confidence))\n",
    "                boxes.append([x, y, w, h])\n",
    "                #print(\"confidence: {:.2f}, class: {:.2f} \\n \".format(confidence, class_id))\n",
    "                images_ids.append(im_id)\n",
    "                count +=1\n",
    "                \n",
    "    im_id+=1\n",
    "\n",
    "print(\"####### RESULTS ########\")\n",
    "print(\"Total images tested: {}, Number of detections: {}\".format(tested, count))"
   ]
  },
  {
   "cell_type": "code",
   "execution_count": 73,
   "metadata": {},
   "outputs": [],
   "source": [
    "images_dict = {}\n",
    "images_name = {}\n",
    "\n",
    "for i,box in enumerate(boxes):\n",
    "    im_id = images_ids[i]\n",
    "    im_name = test_ids[im_id]\n",
    "    x = box[0]\n",
    "    y = box[1]\n",
    "    w = box[2]\n",
    "    h = box[3]\n",
    "    \n",
    "    if im_id in images_dict:\n",
    "        img = images_dict[im_id]\n",
    "        draw_bounding_box(img, class_ids[i], 0.4, round(x), round(y), round(x+w), round(y+h))\n",
    "    \n",
    "    else:\n",
    "        img = cv2.imread(test_ids[im_id])\n",
    "        draw_bounding_box(img, class_ids[i], 0.4, round(x), round(y), round(x+w), round(y+h))\n",
    "        images_dict[im_id] = img\n",
    "        images_name[im_id] = im_name[35:-4]\n",
    "        \n",
    "    \n",
    "    \n"
   ]
  },
  {
   "cell_type": "code",
   "execution_count": 74,
   "metadata": {},
   "outputs": [],
   "source": [
    "for id, image in images_dict.items():\n",
    "       \n",
    "    # save output image to disk \n",
    "    cv2.imwrite(images_name[id] + \"_yolo_pred.jpg\", image)\n"
   ]
  },
  {
   "cell_type": "code",
   "execution_count": 15,
   "metadata": {},
   "outputs": [],
   "source": [
    "indices = cv2.dnn.NMSBoxes(boxes, confidences, conf_threshold, nms_threshold)"
   ]
  },
  {
   "cell_type": "code",
   "execution_count": null,
   "metadata": {},
   "outputs": [
    {
     "name": "stdout",
     "output_type": "stream",
     "text": [
      "0\n"
     ]
    }
   ],
   "source": [
    "\n",
    "for i in indices:\n",
    "    i = i[0]\n",
    "    box = boxes[i]\n",
    "    x = box[0]\n",
    "    y = box[1]\n",
    "    w = box[2]\n",
    "    h = box[3]\n",
    "    \n",
    "    draw_bounding_box(image, class_ids[i], confidences[i], round(x), round(y), round(x+w), round(y+h))\n",
    "\n",
    "    # display output image    \n",
    "    #cv2.imshow(\"object detection\", image)\n",
    "\n",
    "    # wait until any key is pressed\n",
    "    #cv2.waitKey()\n",
    "    \n",
    "    # save output image to disk \n",
    "    cv2.imwrite(\"object-detection.jpg\", image)\n",
    "\n",
    "    # release resources\n",
    "    cv2.destroyAllWindows()"
   ]
  },
  {
   "cell_type": "code",
   "execution_count": null,
   "metadata": {},
   "outputs": [],
   "source": [
    "class_ids"
   ]
  },
  {
   "cell_type": "code",
   "execution_count": null,
   "metadata": {},
   "outputs": [],
   "source": []
  }
 ],
 "metadata": {
  "kernelspec": {
   "display_name": "Python 3",
   "language": "python",
   "name": "python3"
  },
  "language_info": {
   "codemirror_mode": {
    "name": "ipython",
    "version": 3
   },
   "file_extension": ".py",
   "mimetype": "text/x-python",
   "name": "python",
   "nbconvert_exporter": "python",
   "pygments_lexer": "ipython3",
   "version": "3.6.8"
  }
 },
 "nbformat": 4,
 "nbformat_minor": 4
}
