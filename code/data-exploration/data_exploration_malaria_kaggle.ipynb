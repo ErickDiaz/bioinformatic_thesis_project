{
 "cells": [
  {
   "cell_type": "markdown",
   "metadata": {},
   "source": [
    "# Data Exploration"
   ]
  },
  {
   "cell_type": "code",
   "execution_count": 1,
   "metadata": {},
   "outputs": [],
   "source": [
    "import numpy as np\n",
    "import scipy.ndimage as ndi\n",
    "import imageio as imio\n",
    "import matplotlib.pyplot as plt\n",
    "import os\n",
    "import seaborn as sns\n",
    "import pandas as pd"
   ]
  },
  {
   "cell_type": "markdown",
   "metadata": {},
   "source": [
    "# Explore Data"
   ]
  },
  {
   "cell_type": "code",
   "execution_count": 2,
   "metadata": {},
   "outputs": [],
   "source": [
    "RAW_IMAGES_PATH = '../../data/raw_data/malaria/images/'\n",
    "BOUNDING_BOX_PATH =  '../../data/raw_data/malaria/'"
   ]
  },
  {
   "cell_type": "code",
   "execution_count": null,
   "metadata": {},
   "outputs": [],
   "source": [
    "train_images_paths = os.listdir(RAW_IMAGES_PATH)"
   ]
  },
  {
   "cell_type": "code",
   "execution_count": null,
   "metadata": {},
   "outputs": [],
   "source": [
    "train_images_paths"
   ]
  },
  {
   "cell_type": "code",
   "execution_count": null,
   "metadata": {},
   "outputs": [],
   "source": [
    "train_images = []\n",
    "train_images_gray_scale = []\n",
    "train_images_shape = []\n",
    "\n",
    "for i in train_images_paths:\n",
    "    new_image = imio.imread(RAW_IMAGES_PATH+i)\n",
    "    train_images.append(new_image)\n",
    "    train_images_gray_scale.append(new_image[:,:,0])\n",
    "    train_images_shape.append(new_image.shape)\n",
    "    "
   ]
  },
  {
   "cell_type": "code",
   "execution_count": null,
   "metadata": {},
   "outputs": [],
   "source": [
    "train_images_shape =  np.array(train_images_shape)"
   ]
  },
  {
   "cell_type": "markdown",
   "metadata": {},
   "source": [
    "### Number of images in data set"
   ]
  },
  {
   "cell_type": "code",
   "execution_count": null,
   "metadata": {},
   "outputs": [],
   "source": [
    "len(train_images)"
   ]
  },
  {
   "cell_type": "markdown",
   "metadata": {},
   "source": [
    "#### Test random image"
   ]
  },
  {
   "cell_type": "code",
   "execution_count": null,
   "metadata": {},
   "outputs": [],
   "source": [
    "plt.imshow(train_images[5])"
   ]
  },
  {
   "cell_type": "code",
   "execution_count": null,
   "metadata": {},
   "outputs": [],
   "source": [
    "fig, axes = plt.subplots(2,3)\n",
    "axes[0,0].imshow(train_images[5])\n",
    "axes[1,0].imshow(train_images[2])\n",
    "\n",
    "axes[0,1].imshow(train_images[10])\n",
    "axes[1,1].imshow(train_images[4])\n",
    "\n",
    "axes[0,2].imshow(train_images[15])\n",
    "axes[1,2].imshow(train_images[6])\n",
    "\n",
    "\n",
    "#fig = plt.gcf()\n",
    "#for ax in fig.axes:\n",
    "#    ax.axis('off')\n",
    "plt.tight_layout()\n",
    "plt.show()"
   ]
  },
  {
   "cell_type": "markdown",
   "metadata": {},
   "source": [
    "## Images Shape\n",
    "\n",
    "##### Get percentile, distribution of the height,weigth and area of images"
   ]
  },
  {
   "cell_type": "code",
   "execution_count": null,
   "metadata": {},
   "outputs": [],
   "source": [
    "train_images[5].shape"
   ]
  },
  {
   "cell_type": "markdown",
   "metadata": {},
   "source": [
    "### Heights"
   ]
  },
  {
   "cell_type": "code",
   "execution_count": null,
   "metadata": {},
   "outputs": [],
   "source": [
    "heights = train_images_shape[:,0]"
   ]
  },
  {
   "cell_type": "code",
   "execution_count": null,
   "metadata": {},
   "outputs": [],
   "source": [
    "print('MEAN     : ' , np.mean(heights))\n",
    "print('MAX VALUE: ' , np.amax(heights))\n",
    "print('MIN VALUE: ' , np.amin(heights))\n",
    "print('PCTL 25% : ' , np.percentile(heights, 25))\n",
    "print('PCTL 50% : ' , np.percentile(heights, 50))\n",
    "print('PCTL 75% : ' , np.percentile(heights, 75))"
   ]
  },
  {
   "cell_type": "code",
   "execution_count": null,
   "metadata": {},
   "outputs": [],
   "source": [
    "sns.distplot(heights)"
   ]
  },
  {
   "cell_type": "markdown",
   "metadata": {},
   "source": [
    "### Widths"
   ]
  },
  {
   "cell_type": "code",
   "execution_count": null,
   "metadata": {},
   "outputs": [],
   "source": [
    "widths = train_images_shape[:,1]"
   ]
  },
  {
   "cell_type": "code",
   "execution_count": null,
   "metadata": {},
   "outputs": [],
   "source": [
    "print('MEAN     : ' , np.mean(widths))\n",
    "print('MAX VALUE: ' , np.amax(widths))\n",
    "print('MIN VALUE: ' , np.amin(widths))\n",
    "print('PCTL 25% : ' , np.percentile(widths, 25))\n",
    "print('PCTL 50% : ' , np.percentile(widths, 50))\n",
    "print('PCTL 75% : ' , np.percentile(widths, 75))"
   ]
  },
  {
   "cell_type": "code",
   "execution_count": null,
   "metadata": {},
   "outputs": [],
   "source": [
    "sns.distplot(widths)"
   ]
  },
  {
   "cell_type": "markdown",
   "metadata": {},
   "source": [
    "# TRANSFORM IMAGES"
   ]
  },
  {
   "cell_type": "code",
   "execution_count": 3,
   "metadata": {},
   "outputs": [],
   "source": [
    "import os\n",
    "import sys\n",
    "import random\n",
    "import warnings\n",
    "import cv2\n",
    "\n",
    "from tqdm import tqdm\n",
    "from itertools import chain\n",
    "from skimage.io import imread, imshow, imread_collection, concatenate_images\n",
    "from skimage.transform import resize\n",
    "from skimage.morphology import label\n"
   ]
  },
  {
   "cell_type": "code",
   "execution_count": 4,
   "metadata": {},
   "outputs": [],
   "source": [
    "warnings.filterwarnings('ignore', category=UserWarning, module='skimage')"
   ]
  },
  {
   "cell_type": "markdown",
   "metadata": {},
   "source": [
    "## Load TRAIN dataset"
   ]
  },
  {
   "cell_type": "code",
   "execution_count": null,
   "metadata": {},
   "outputs": [],
   "source": [
    "train_bounding_box_df = pd.read_json(BOUNDING_BOX_PATH + 'training.json')\n",
    "train_bounding_box_df['path'] = train_bounding_box_df['image'].map(lambda x: BOUNDING_BOX_PATH + x['pathname'][1:])\n",
    "\n",
    "print(train_bounding_box_df.shape[0], 'images')\n",
    "print(train_bounding_box_df.shape[0], 'images available')\n",
    "train_bounding_box_df.sample(5)"
   ]
  },
  {
   "cell_type": "code",
   "execution_count": null,
   "metadata": {},
   "outputs": [],
   "source": [
    "objects = []\n",
    "for im_index, c_row in train_bounding_box_df.iterrows():\n",
    "    for c_item in c_row['objects']:\n",
    "        c_item.update({'im_index':im_index})\n",
    "        objects.append(dict(image=c_row['path'], **c_item))\n",
    "        \n",
    "object_df = pd.DataFrame(objects)\n"
   ]
  },
  {
   "cell_type": "code",
   "execution_count": null,
   "metadata": {},
   "outputs": [],
   "source": [
    "#object_df = pd.DataFrame([dict(image=c_row['path'], **c_item) for im_index, c_row in train_bounding_box_df.iterrows() for c_item in c_row['objects']])\n",
    "cat_dict = {v:k for k,v in enumerate(object_df['category'].value_counts().index, 1)}\n",
    "print(object_df['category'].value_counts())\n",
    "object_df.sample(3)"
   ]
  },
  {
   "cell_type": "code",
   "execution_count": null,
   "metadata": {},
   "outputs": [],
   "source": [
    "cat_dict"
   ]
  },
  {
   "cell_type": "markdown",
   "metadata": {},
   "source": [
    "## Transform Data"
   ]
  },
  {
   "cell_type": "markdown",
   "metadata": {},
   "source": [
    "### Parameters"
   ]
  },
  {
   "cell_type": "code",
   "execution_count": 21,
   "metadata": {},
   "outputs": [],
   "source": [
    "IMG_WIDTH = 256\n",
    "IMG_HEIGHT = 256\n",
    "IMG_CHANNELS = 3\n",
    "TRANSFORMED_PATH = '../../data/raw_data/malaria/transformed_images/'\n",
    "GENERATED_MASK_PATH = '../../data/raw_data/malaria/masks/'"
   ]
  },
  {
   "cell_type": "code",
   "execution_count": null,
   "metadata": {},
   "outputs": [],
   "source": [
    "# Get and resize train images and masks\n",
    "total_images = train_bounding_box_df.shape[0]\n",
    "#X_train = np.zeros((total_images, IMG_HEIGHT, IMG_WIDTH, IMG_CHANNELS), dtype=np.uint8)\n",
    "#masks_train = np.zeros((total_images, IMG_HEIGHT, IMG_WIDTH, IMG_CHANNELS), dtype=np.uint8)\n",
    "X_train = []\n",
    "masks_train = []"
   ]
  },
  {
   "cell_type": "code",
   "execution_count": null,
   "metadata": {},
   "outputs": [],
   "source": [
    "object_df.count()"
   ]
  },
  {
   "cell_type": "code",
   "execution_count": null,
   "metadata": {},
   "outputs": [],
   "source": [
    "print('Getting and resizing train images  ... ')\n",
    "sys.stdout.flush()\n",
    "\n",
    "for n, row in tqdm(train_bounding_box_df.iterrows(), total=total_images):\n",
    "    img_path = row['path']\n",
    "    img = imread( img_path )[:,:,:IMG_CHANNELS]\n",
    "    \n",
    "    img = resize(img, (IMG_HEIGHT, IMG_WIDTH), mode='constant', preserve_range=True)\n",
    "    X_train.append(img)\n",
    "    masks_train.append( np.zeros((img.shape[0], img.shape[1]), dtype=np.uint8) )\n",
    "   \n",
    "    "
   ]
  },
  {
   "cell_type": "code",
   "execution_count": null,
   "metadata": {},
   "outputs": [],
   "source": [
    "print('Generating masks ... ')\n",
    "sys.stdout.flush()\n",
    "\n",
    "for n, row in tqdm(object_df.iterrows(), total=object_df.count()):\n",
    "    #print(row)\n",
    "    min_val = row['bounding_box']['minimum']\n",
    "    max_val = row['bounding_box']['maximum']\n",
    "    im_index = row['im_index']\n",
    "    \n",
    "    if(row['category'] in ['trophozoite','ring', 'schizont']) :\n",
    "        mask =  masks_train[im_index]\n",
    "        mask[slice(min_val['r'], max_val['r']), slice(min_val['c'], max_val['c'])] = 1\n",
    "        masks_train[im_index] = mask\n",
    "   \n",
    "    "
   ]
  },
  {
   "cell_type": "code",
   "execution_count": null,
   "metadata": {},
   "outputs": [],
   "source": [
    "plt.imshow(X_train[0])"
   ]
  },
  {
   "cell_type": "code",
   "execution_count": null,
   "metadata": {},
   "outputs": [],
   "source": [
    "plt.imshow(masks_train[0])"
   ]
  },
  {
   "cell_type": "code",
   "execution_count": null,
   "metadata": {},
   "outputs": [],
   "source": [
    "from skimage.color import label2rgb"
   ]
  },
  {
   "cell_type": "code",
   "execution_count": null,
   "metadata": {},
   "outputs": [],
   "source": [
    "plt.imshow(label2rgb(label=masks_train[0], image=X_train[0], bg_label=0))"
   ]
  },
  {
   "cell_type": "code",
   "execution_count": null,
   "metadata": {},
   "outputs": [],
   "source": []
  },
  {
   "cell_type": "markdown",
   "metadata": {},
   "source": [
    "## TEST dataset"
   ]
  },
  {
   "cell_type": "code",
   "execution_count": 5,
   "metadata": {},
   "outputs": [],
   "source": [
    "X_test = []\n",
    "masks_test = []"
   ]
  },
  {
   "cell_type": "code",
   "execution_count": 7,
   "metadata": {},
   "outputs": [
    {
     "name": "stdout",
     "output_type": "stream",
     "text": [
      "120 images\n",
      "120 images available\n"
     ]
    }
   ],
   "source": [
    "test_bounding_box_df = pd.read_json(BOUNDING_BOX_PATH + 'test.json')\n",
    "test_bounding_box_df['path'] = test_bounding_box_df['image'].map(lambda x: BOUNDING_BOX_PATH + x['pathname'][1:])\n",
    "\n",
    "print(test_bounding_box_df.shape[0], 'images')\n",
    "print(test_bounding_box_df.shape[0], 'images available')\n"
   ]
  },
  {
   "cell_type": "code",
   "execution_count": 8,
   "metadata": {},
   "outputs": [],
   "source": [
    "objects_test = []\n",
    "for im_index, c_row in test_bounding_box_df.iterrows():\n",
    "    for c_item in c_row['objects']:\n",
    "        c_item.update({'im_index':im_index})\n",
    "        objects_test.append(dict(image=c_row['path'], **c_item))\n",
    "        \n",
    "object_test_df = pd.DataFrame(objects_test)"
   ]
  },
  {
   "cell_type": "code",
   "execution_count": 10,
   "metadata": {},
   "outputs": [
    {
     "data": {
      "text/plain": [
       "120"
      ]
     },
     "execution_count": 10,
     "metadata": {},
     "output_type": "execute_result"
    }
   ],
   "source": [
    "total_test_images = test_bounding_box_df.shape[0]\n",
    "total_test_images"
   ]
  },
  {
   "cell_type": "code",
   "execution_count": 11,
   "metadata": {},
   "outputs": [
    {
     "name": "stdout",
     "output_type": "stream",
     "text": [
      "Getting and resizing test images  ... \n"
     ]
    },
    {
     "name": "stderr",
     "output_type": "stream",
     "text": [
      "100%|██████████| 120/120 [00:03<00:00, 37.11it/s]\n"
     ]
    }
   ],
   "source": [
    "print('Getting and resizing test images  ... ')\n",
    "sys.stdout.flush()\n",
    "\n",
    "for n, row in tqdm(test_bounding_box_df.iterrows(), total=total_test_images):\n",
    "    img_path = row['path']\n",
    "    img = imread( img_path )[:,:,:IMG_CHANNELS]\n",
    "    \n",
    "    ## Create image mask\n",
    "    masks_test.append( np.zeros((img.shape[0], img.shape[1]), dtype=np.uint8) )\n",
    "    \n",
    "    ## Reshape image\n",
    "    #img = resize(img, (IMG_HEIGHT, IMG_WIDTH), mode='constant', preserve_range=True)\n",
    "    X_test.append(img)\n",
    "    \n",
    "   "
   ]
  },
  {
   "cell_type": "code",
   "execution_count": 15,
   "metadata": {},
   "outputs": [
    {
     "name": "stdout",
     "output_type": "stream",
     "text": [
      "Generating test masks ... \n"
     ]
    },
    {
     "name": "stderr",
     "output_type": "stream",
     "text": [
      "100%|██████████| 5922/5922 [00:00<00:00, 11276.66it/s]\n"
     ]
    }
   ],
   "source": [
    "print('Generating test masks ... ')\n",
    "sys.stdout.flush()\n",
    "object_test_df_count = object_test_df.shape[0]\n",
    "for n, row in tqdm(object_test_df.iterrows(), total=object_test_df_count):\n",
    "\n",
    "    min_val = row['bounding_box']['minimum']\n",
    "    max_val = row['bounding_box']['maximum']\n",
    "    im_index = row['im_index']\n",
    "    \n",
    "    if(row['category'] in ['trophozoite','ring', 'schizont', 'gametocyte']) :\n",
    "        mask =  masks_test[im_index]\n",
    "        mask[slice(min_val['r'], max_val['r']), slice(min_val['c'], max_val['c'])] = 1\n",
    "        masks_test[im_index] = mask"
   ]
  },
  {
   "cell_type": "markdown",
   "metadata": {},
   "source": [
    "#### Reshape Masks"
   ]
  },
  {
   "cell_type": "code",
   "execution_count": null,
   "metadata": {},
   "outputs": [],
   "source": [
    "masks_test_transformed = []\n",
    "for mask in masks_test:\n",
    "    new_mask = cv2.resize(masks_test[0], dsize=(256,256), interpolation=cv2.INTER_NEAREST)\n",
    "    masks_test_transformed.append(new_mask)"
   ]
  },
  {
   "cell_type": "code",
   "execution_count": 29,
   "metadata": {},
   "outputs": [
    {
     "name": "stdout",
     "output_type": "stream",
     "text": [
      "(1383, 1944)\n",
      "0.18510484454085321\n",
      "0.13168724279835392\n",
      "(256, 256)\n"
     ]
    },
    {
     "data": {
      "text/plain": [
       "<matplotlib.image.AxesImage at 0x7fc2a027af60>"
      ]
     },
     "execution_count": 29,
     "metadata": {},
     "output_type": "execute_result"
    },
    {
     "data": {
      "image/png": "[encoded data removed]",
      "text/plain": [
       "<Figure size 432x288 with 1 Axes>"
      ]
     },
     "metadata": {
      "needs_background": "light"
     },
     "output_type": "display_data"
    }
   ],
   "source": [
    "print(masks_test[0].shape)\n",
    "print(256/1383)\n",
    "print(256/1944)\n",
    "\n",
    "#temp = imresize(masks_test[0], size=(256,256), interp='bilinear')\n",
    "temp = cv2.resize(masks_test[0], dsize=(256,256), interpolation=cv2.INTER_NEAREST)\n",
    "temp = ndi.binary_erosion(temp, iterations=5)\n",
    "print(temp.shape)\n",
    "plt.imshow(temp)"
   ]
  },
  {
   "cell_type": "code",
   "execution_count": null,
   "metadata": {},
   "outputs": [],
   "source": [
    "plt.imshow(masks_test[0])"
   ]
  },
  {
   "cell_type": "code",
   "execution_count": null,
   "metadata": {},
   "outputs": [],
   "source": [
    "plt.imshow(X_test[0])"
   ]
  },
  {
   "cell_type": "code",
   "execution_count": null,
   "metadata": {},
   "outputs": [],
   "source": [
    "plt.imshow(X_test[0], )    # Also set the cmap to gray\n",
    "plt.imshow(np.where(masks_test[0]>0, 1, np.nan), cmap='rainbow',alpha=0.4)"
   ]
  },
  {
   "cell_type": "markdown",
   "metadata": {},
   "source": [
    "## SAVE DATA"
   ]
  },
  {
   "cell_type": "markdown",
   "metadata": {},
   "source": [
    "### TRAINING DATASET"
   ]
  },
  {
   "cell_type": "code",
   "execution_count": 24,
   "metadata": {},
   "outputs": [
    {
     "name": "stdout",
     "output_type": "stream",
     "text": [
      "malaria_train_transformed_256_256\n",
      "malaria_train_transformed_256_256_names\n",
      "malaria_train_transformed_256_256_masks\n"
     ]
    }
   ],
   "source": [
    "train_dataset_name = 'malaria_train_transformed_' + str(IMG_WIDTH) + '_' + str(IMG_HEIGHT)\n",
    "print(train_dataset_name)\n",
    "print(train_dataset_name + '_names')\n",
    "print(train_dataset_name + '_masks')"
   ]
  },
  {
   "cell_type": "code",
   "execution_count": null,
   "metadata": {},
   "outputs": [],
   "source": [
    "np.save(TRANSFORMED_PATH + train_dataset_name , X_train)"
   ]
  },
  {
   "cell_type": "code",
   "execution_count": null,
   "metadata": {},
   "outputs": [],
   "source": [
    "np.save(TRANSFORMED_PATH + train_dataset_name + '_names', train_bounding_box_df['path'])"
   ]
  },
  {
   "cell_type": "code",
   "execution_count": null,
   "metadata": {},
   "outputs": [],
   "source": [
    "np.save(TRANSFORMED_PATH + train_dataset_name + '_masks', masks_train)"
   ]
  },
  {
   "cell_type": "markdown",
   "metadata": {},
   "source": [
    "### TEST DATASET"
   ]
  },
  {
   "cell_type": "code",
   "execution_count": 25,
   "metadata": {},
   "outputs": [
    {
     "name": "stdout",
     "output_type": "stream",
     "text": [
      "malaria_test_transformed_256_256\n",
      "malaria_test_transformed_256_256_names\n",
      "malaria_test_transformed_256_256_masks\n"
     ]
    }
   ],
   "source": [
    "test_dataset_name = 'malaria_test_transformed_' + str(IMG_WIDTH) + '_' + str(IMG_HEIGHT)\n",
    "print(test_dataset_name)\n",
    "print(test_dataset_name + '_names')\n",
    "print(test_dataset_name + '_masks')"
   ]
  },
  {
   "cell_type": "code",
   "execution_count": null,
   "metadata": {},
   "outputs": [],
   "source": [
    "np.save(TRANSFORMED_PATH + test_dataset_name, X_test)"
   ]
  },
  {
   "cell_type": "code",
   "execution_count": null,
   "metadata": {},
   "outputs": [],
   "source": [
    "np.save(TRANSFORMED_PATH + test_dataset_name + '_names', test_bounding_box_df['path'])"
   ]
  },
  {
   "cell_type": "code",
   "execution_count": null,
   "metadata": {},
   "outputs": [],
   "source": [
    "np.save(TRANSFORMED_PATH + test_dataset_name + '_masks', masks_test)"
   ]
  },
  {
   "cell_type": "code",
   "execution_count": null,
   "metadata": {},
   "outputs": [],
   "source": []
  }
 ],
 "metadata": {
  "kernelspec": {
   "display_name": "Python 3",
   "language": "python",
   "name": "python3"
  },
  "language_info": {
   "codemirror_mode": {
    "name": "ipython",
    "version": 3
   },
   "file_extension": ".py",
   "mimetype": "text/x-python",
   "name": "python",
   "nbconvert_exporter": "python",
   "pygments_lexer": "ipython3",
   "version": "3.6.8"
  }
 },
 "nbformat": 4,
 "nbformat_minor": 2
}
