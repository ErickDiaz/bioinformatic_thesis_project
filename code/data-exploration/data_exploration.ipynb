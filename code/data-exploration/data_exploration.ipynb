{
 "cells": [
  {
   "cell_type": "markdown",
   "metadata": {},
   "source": [
    "# Data Exploration"
   ]
  },
  {
   "cell_type": "code",
   "execution_count": 45,
   "metadata": {},
   "outputs": [],
   "source": [
    "import numpy as np\n",
    "import scipy.ndimage as ndi\n",
    "import imageio as imio\n",
    "import matplotlib.pyplot as plt\n",
    "import os\n",
    "import seaborn as sns"
   ]
  },
  {
   "cell_type": "markdown",
   "metadata": {},
   "source": [
    "# Load Data"
   ]
  },
  {
   "cell_type": "code",
   "execution_count": 9,
   "metadata": {},
   "outputs": [],
   "source": [
    "RAW_IMAGES_PATH = '../../data/raw_data/plasmodium/'"
   ]
  },
  {
   "cell_type": "code",
   "execution_count": 10,
   "metadata": {},
   "outputs": [],
   "source": [
    "train_images_paths = os.listdir(RAW_IMAGES_PATH)"
   ]
  },
  {
   "cell_type": "code",
   "execution_count": 11,
   "metadata": {},
   "outputs": [
    {
     "data": {
      "text/plain": [
       "['20190401_145328.jpg',\n",
       " '20190319_153132.jpg',\n",
       " '20190320_124214.jpg',\n",
       " '20190401_153827.jpg',\n",
       " '20190320_102833.jpg',\n",
       " '20190411_130242.jpg',\n",
       " '20190409_122627(0).jpg',\n",
       " '20190411_130243.jpg',\n",
       " '20190320_131220.jpg',\n",
       " '20190320_102832.jpg',\n",
       " '20190401_153826.jpg',\n",
       " '20190411_130548(0).jpg',\n",
       " '20190322_122955.jpg',\n",
       " '20190411_125622(0).jpg',\n",
       " '20190411_151911.jpg',\n",
       " '20190405_143731.jpg',\n",
       " '20190319_153133.jpg',\n",
       " '20190401_145329.jpg',\n",
       " '20190320_105740.jpg',\n",
       " '20190319_153131.jpg',\n",
       " '20190319_152039.jpg',\n",
       " '20190410_112107.jpg',\n",
       " '20190405_115637(0).jpg',\n",
       " '20190320_102830.jpg',\n",
       " '20190319_152038.jpg',\n",
       " '20190410_103157.jpg',\n",
       " '20190411_132218(0).jpg',\n",
       " '20190411_151912.jpg',\n",
       " '20190405_143732.jpg',\n",
       " '20190405_143736.jpg',\n",
       " '20190410_103621.jpg',\n",
       " '20190411_123827.jpg',\n",
       " '20190410_103609.jpg',\n",
       " '20190401_123134.jpg',\n",
       " '20190320_102835.jpg',\n",
       " '20190401_123135.jpg',\n",
       " '20190320_124213.jpg',\n",
       " '20190410_103620.jpg',\n",
       " '20190411_123826.jpg',\n",
       " '20190409_130205.jpg',\n",
       " '20190409_130207.jpg',\n",
       " '20190405_115956.jpg',\n",
       " '20190411_123830.jpg',\n",
       " '20190411_131549.jpg',\n",
       " '20190322_122951.jpg',\n",
       " '20190322_123246.jpg',\n",
       " '20190320_101456.jpg',\n",
       " '20190320_102836.jpg',\n",
       " '20190320_131219.jpg',\n",
       " '20190401_145330(0).jpg',\n",
       " '20190320_101457.jpg',\n",
       " '20190322_122950.jpg',\n",
       " '20190411_131548.jpg',\n",
       " '20190405_115957.jpg',\n",
       " '20190405_143734.jpg',\n",
       " '20190409_130206.jpg',\n",
       " '20190320_105740(0).jpg',\n",
       " '20190411_132218.jpg',\n",
       " '20190401_150949.jpg',\n",
       " '20190411_124334.jpg',\n",
       " '20190320_124459.jpg',\n",
       " '20190320_125747.jpg',\n",
       " '20190411_123507.jpg',\n",
       " '20190320_125746.jpg',\n",
       " '20190410_105234.jpg',\n",
       " '20190320_105737.jpg',\n",
       " '20190409_120717.jpg',\n",
       " '20190320_101802.jpg',\n",
       " '20190405_145719.jpg',\n",
       " '20190409_123418.jpg',\n",
       " '20190405_150659.jpg',\n",
       " '20190320_114413.jpg',\n",
       " '20190411_124322.jpg',\n",
       " '20190401_151328.jpg',\n",
       " '20190411_151746.jpg',\n",
       " '20190401_151338.jpg',\n",
       " '20190405_150701.jpg',\n",
       " '20190410_105233.jpg',\n",
       " '20190410_104844.jpg',\n",
       " '20190410_104850.jpg',\n",
       " '20190320_102329.jpg',\n",
       " '20190320_101807.jpg',\n",
       " '20190410_101726(0).jpg',\n",
       " '20190411_151140.jpg',\n",
       " '20190411_131105.jpg',\n",
       " '20190411_123515.jpg',\n",
       " '20190409_123420.jpg',\n",
       " '20190411_121101.jpg',\n",
       " '20190405_145721.jpg',\n",
       " '20190320_101806.jpg',\n",
       " '20190410_102742(0).jpg',\n",
       " '20190405_145906.jpg',\n",
       " '20190410_105232.jpg',\n",
       " '20190410_101726.jpg',\n",
       " '20190401_151339.jpg',\n",
       " '20190411_151747.jpg',\n",
       " '20190411_151745.jpg',\n",
       " '20190320_114414.jpg',\n",
       " '20190405_145858.jpg',\n",
       " '20190320_124500.jpg',\n",
       " '20190405_145904.jpg',\n",
       " '20190320_101804.jpg',\n",
       " '20190411_152338.jpg',\n",
       " '20190401_123140.jpg',\n",
       " '20190322_123246(0).jpg',\n",
       " '20190411_123516.jpg',\n",
       " '20190401_123141.jpg',\n",
       " '20190405_145905.jpg',\n",
       " '20190320_124501.jpg',\n",
       " '20190410_101725.jpg',\n",
       " '20190410_105231.jpg',\n",
       " '20190411_124324.jpg',\n",
       " '20190410_102745.jpg',\n",
       " '20190410_104850(0).jpg',\n",
       " '20190320_125606.jpg',\n",
       " '20190411_132007.jpg',\n",
       " '20190320_102332.jpg',\n",
       " '20190401_151243.jpg',\n",
       " '20190411_125624.jpg',\n",
       " '20190401_151242.jpg',\n",
       " '20190320_130424.jpg',\n",
       " '20190320_124445.jpg',\n",
       " '20190320_102333.jpg',\n",
       " '20190411_132006.jpg',\n",
       " '20190320_114419.jpg',\n",
       " '20190410_105229.jpg',\n",
       " '20190411_151748.jpg',\n",
       " '20190410_102744.jpg',\n",
       " '20190401_153721.jpg',\n",
       " '20190405_120003.jpg',\n",
       " '20190320_125605.jpg',\n",
       " '20190319_152047.jpg',\n",
       " '20190320_102331.jpg',\n",
       " '20190405_145710.jpg',\n",
       " '20190405_115240(0).jpg',\n",
       " '20190320_124452.jpg',\n",
       " '20190319_152046.jpg',\n",
       " '20190410_101716.jpg',\n",
       " '20190401_153720.jpg',\n",
       " '20190411_124317.jpg',\n",
       " '20190410_102743.jpg',\n",
       " '20190401_151319.jpg',\n",
       " '20190405_115240.jpg',\n",
       " '20190405_120006.jpg',\n",
       " '20190401_121403.jpg',\n",
       " '20190401_121359.jpg',\n",
       " '20190320_102334.jpg',\n",
       " '20190320_130423.jpg',\n",
       " '20190320_125748.jpg',\n",
       " '20190409_123414.jpg',\n",
       " '20190322_123005.jpg',\n",
       " '20190411_130548.jpg',\n",
       " '20190411_125622.jpg',\n",
       " '20190411_120941.jpg',\n",
       " '20190322_123004.jpg',\n",
       " '20190401_151244.jpg',\n",
       " '20190320_130422.jpg',\n",
       " '20190320_102335.jpg',\n",
       " '20190401_121358.jpg',\n",
       " '20190401_121402.jpg',\n",
       " '20190405_115241.jpg',\n",
       " '20190411_132216.jpg',\n",
       " '20190410_102742.jpg',\n",
       " '20190405_120006(0).jpg',\n",
       " '20190410_102740.jpg',\n",
       " '20190405_115243.jpg',\n",
       " '20190405_120005.jpg',\n",
       " '20190320_114421.jpg',\n",
       " '20190401_121400.jpg',\n",
       " '20190411_121056.jpg',\n",
       " '20190320_102337.jpg',\n",
       " '20190409_123417.jpg',\n",
       " '20190411_125620.jpg',\n",
       " '20190411_125621.jpg',\n",
       " '20190411_120942.jpg',\n",
       " '20190410_103159(0).jpg',\n",
       " '20190409_123416.jpg',\n",
       " '20190320_130421.jpg',\n",
       " '20190411_121057.jpg',\n",
       " '20190319_152040.jpg',\n",
       " '20190401_121401.jpg',\n",
       " '20190401_150950.jpg',\n",
       " '20190409_122627.jpg',\n",
       " '20190411_124324(0).jpg',\n",
       " '20190411_123828.jpg',\n",
       " '20190405_115635.jpg',\n",
       " '20190411_120500.jpg',\n",
       " '20190411_120931.jpg',\n",
       " '20190411_122115.jpg',\n",
       " '20190401_153826(0).jpg',\n",
       " '20190411_122114.jpg',\n",
       " '20190411_151139.jpg',\n",
       " '20190405_115620.jpg',\n",
       " '20190410_103613.jpg',\n",
       " '20190410_103607.jpg',\n",
       " '20190411_131105(0).jpg',\n",
       " '20190405_115218.jpg',\n",
       " '20190409_122626.jpg',\n",
       " '20190410_110137.jpg',\n",
       " '20190410_103611.jpg',\n",
       " '20190405_115636.jpg',\n",
       " '20190411_120926.jpg',\n",
       " '20190409_120717(0).jpg',\n",
       " '20190411_152340.jpg',\n",
       " '20190411_130248.jpg',\n",
       " '20190320_131217.jpg',\n",
       " '20190405_115637.jpg',\n",
       " '20190411_131547.jpg',\n",
       " '20190410_110136.jpg',\n",
       " '20190401_145327.jpg',\n",
       " '20190405_115223.jpg',\n",
       " '20190410_103614.jpg',\n",
       " '20190320_131158.jpg',\n",
       " '20190401_153828.jpg',\n",
       " '20190410_105231(0).jpg',\n",
       " '20190409_120717(1).jpg',\n",
       " '20190319_152034.jpg',\n",
       " '20190320_130051.jpg',\n",
       " '20190401_145332.jpg',\n",
       " '20190401_145330.jpg',\n",
       " '20190411_151908.jpg',\n",
       " '20190410_103159.jpg',\n",
       " '20190320_102142.jpg',\n",
       " '20190405_115619.jpg',\n",
       " '20190319_152037.jpg']"
      ]
     },
     "execution_count": 11,
     "metadata": {},
     "output_type": "execute_result"
    }
   ],
   "source": [
    "train_images_paths"
   ]
  },
  {
   "cell_type": "code",
   "execution_count": 22,
   "metadata": {},
   "outputs": [],
   "source": [
    "train_images = []\n",
    "train_images_shape = []\n",
    "\n",
    "for i in train_images_paths:\n",
    "    new_image = imio.imread(RAW_IMAGES_PATH+i)\n",
    "    train_images.append(new_image)\n",
    "    train_images_shape.append(new_image.shape)\n",
    "    "
   ]
  },
  {
   "cell_type": "code",
   "execution_count": 35,
   "metadata": {},
   "outputs": [],
   "source": [
    "train_images_shape =  np.array(train_images_shape)"
   ]
  },
  {
   "cell_type": "markdown",
   "metadata": {},
   "source": [
    "### Number of images in data set"
   ]
  },
  {
   "cell_type": "code",
   "execution_count": 47,
   "metadata": {},
   "outputs": [
    {
     "data": {
      "text/plain": [
       "225"
      ]
     },
     "execution_count": 47,
     "metadata": {},
     "output_type": "execute_result"
    }
   ],
   "source": [
    "len(train_images)"
   ]
  },
  {
   "cell_type": "markdown",
   "metadata": {},
   "source": [
    "### Remove duplicated images"
   ]
  },
  {
   "cell_type": "code",
   "execution_count": null,
   "metadata": {},
   "outputs": [],
   "source": [
    "## TO DO:"
   ]
  },
  {
   "cell_type": "markdown",
   "metadata": {},
   "source": [
    "#### Test random image"
   ]
  },
  {
   "cell_type": "code",
   "execution_count": 24,
   "metadata": {},
   "outputs": [
    {
     "data": {
      "text/plain": [
       "<matplotlib.image.AxesImage at 0x1068d90f0>"
      ]
     },
     "execution_count": 24,
     "metadata": {},
     "output_type": "execute_result"
    },
    {
     "data": {
      "image/png": "[encoded data removed]",
      "text/plain": [
       "<Figure size 432x288 with 1 Axes>"
      ]
     },
     "metadata": {
      "needs_background": "light"
     },
     "output_type": "display_data"
    }
   ],
   "source": [
    "plt.imshow(train_images[5])"
   ]
  },
  {
   "cell_type": "markdown",
   "metadata": {},
   "source": [
    "## Images Shape\n",
    "\n",
    "##### Get percentile, distribution of the height,weigth and area of images"
   ]
  },
  {
   "cell_type": "code",
   "execution_count": 21,
   "metadata": {},
   "outputs": [
    {
     "data": {
      "text/plain": [
       "(4128, 3096, 3)"
      ]
     },
     "execution_count": 21,
     "metadata": {},
     "output_type": "execute_result"
    }
   ],
   "source": [
    "train_images[5].shape"
   ]
  },
  {
   "cell_type": "markdown",
   "metadata": {},
   "source": [
    "### Heights"
   ]
  },
  {
   "cell_type": "code",
   "execution_count": 37,
   "metadata": {},
   "outputs": [],
   "source": [
    "heights = train_images_shape[:,0]"
   ]
  },
  {
   "cell_type": "code",
   "execution_count": 53,
   "metadata": {},
   "outputs": [
    {
     "name": "stdout",
     "output_type": "stream",
     "text": [
      "MEAN     :  3733.5466666666666\n",
      "MAX VALUE:  4128\n",
      "MIN VALUE:  3096\n",
      "PCTL 25% :  3096.0\n",
      "PCTL 50% :  4128.0\n",
      "PCTL 75% :  4128.0\n"
     ]
    }
   ],
   "source": [
    "print('MEAN     : ' , np.mean(heights))\n",
    "print('MAX VALUE: ' , np.amax(heights))\n",
    "print('MIN VALUE: ' , np.amin(heights))\n",
    "print('PCTL 25% : ' , np.percentile(heights, 25))\n",
    "print('PCTL 50% : ' , np.percentile(heights, 50))\n",
    "print('PCTL 75% : ' , np.percentile(heights, 75))"
   ]
  },
  {
   "cell_type": "code",
   "execution_count": 46,
   "metadata": {},
   "outputs": [
    {
     "data": {
      "text/plain": [
       "<matplotlib.axes._subplots.AxesSubplot at 0x1c31806978>"
      ]
     },
     "execution_count": 46,
     "metadata": {},
     "output_type": "execute_result"
    },
    {
     "data": {
      "image/png": "[encoded data removed]",
      "text/plain": [
       "<Figure size 432x288 with 1 Axes>"
      ]
     },
     "metadata": {
      "needs_background": "light"
     },
     "output_type": "display_data"
    }
   ],
   "source": [
    "sns.distplot(heights)"
   ]
  },
  {
   "cell_type": "markdown",
   "metadata": {},
   "source": [
    "### Widths"
   ]
  },
  {
   "cell_type": "code",
   "execution_count": 49,
   "metadata": {},
   "outputs": [],
   "source": [
    "widths = train_images_shape[:,1]"
   ]
  },
  {
   "cell_type": "code",
   "execution_count": 54,
   "metadata": {},
   "outputs": [
    {
     "name": "stdout",
     "output_type": "stream",
     "text": [
      "MEAN     :  3490.4533333333334\n",
      "MAX VALUE:  4128\n",
      "MIN VALUE:  3096\n",
      "PCTL 25% :  3096.0\n",
      "PCTL 50% :  3096.0\n",
      "PCTL 75% :  4128.0\n"
     ]
    }
   ],
   "source": [
    "print('MEAN     : ' , np.mean(widths))\n",
    "print('MAX VALUE: ' , np.amax(widths))\n",
    "print('MIN VALUE: ' , np.amin(widths))\n",
    "print('PCTL 25% : ' , np.percentile(widths, 25))\n",
    "print('PCTL 50% : ' , np.percentile(widths, 50))\n",
    "print('PCTL 75% : ' , np.percentile(widths, 75))"
   ]
  },
  {
   "cell_type": "code",
   "execution_count": 51,
   "metadata": {},
   "outputs": [
    {
     "data": {
      "text/plain": [
       "<matplotlib.axes._subplots.AxesSubplot at 0xd26d47048>"
      ]
     },
     "execution_count": 51,
     "metadata": {},
     "output_type": "execute_result"
    },
    {
     "data": {
      "image/png": "[encoded data removed]",
      "text/plain": [
       "<Figure size 432x288 with 1 Axes>"
      ]
     },
     "metadata": {
      "needs_background": "light"
     },
     "output_type": "display_data"
    }
   ],
   "source": [
    "sns.distplot(widths)"
   ]
  },
  {
   "cell_type": "markdown",
   "metadata": {},
   "source": [
    "## Store data as numpy arrays\n",
    "\n",
    "Save a binary file with the array represantation of images for the pre-procesing part"
   ]
  },
  {
   "cell_type": "code",
   "execution_count": null,
   "metadata": {},
   "outputs": [],
   "source": [
    "## TO DO:"
   ]
  },
  {
   "cell_type": "markdown",
   "metadata": {},
   "source": [
    "## Next Steps:\n",
    "### Pre-Procesing\n",
    " * Define an unique size for images\n",
    "     * Try to remove the black areas \n",
    " * Center images\n",
    " \n",
    "    "
   ]
  },
  {
   "cell_type": "code",
   "execution_count": null,
   "metadata": {},
   "outputs": [],
   "source": []
  }
 ],
 "metadata": {
  "kernelspec": {
   "display_name": "Python 3",
   "language": "python",
   "name": "python3"
  },
  "language_info": {
   "codemirror_mode": {
    "name": "ipython",
    "version": 3
   },
   "file_extension": ".py",
   "mimetype": "text/x-python",
   "name": "python",
   "nbconvert_exporter": "python",
   "pygments_lexer": "ipython3",
   "version": "3.7.3"
  }
 },
 "nbformat": 4,
 "nbformat_minor": 2
}
